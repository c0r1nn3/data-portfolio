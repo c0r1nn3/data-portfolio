{
 "cells": [
  {
   "cell_type": "markdown",
   "id": "fb7366f0-d310-4f44-bef0-ee504b80b2e8",
   "metadata": {},
   "source": [
    "# Model 2 : Product Features only"
   ]
  },
  {
   "cell_type": "code",
   "execution_count": 2,
   "id": "d6e487a3-9400-4193-8ac1-4258a9ee1ece",
   "metadata": {},
   "outputs": [],
   "source": [
    "import pandas as pd\n",
    "import numpy as np\n",
    "import xgboost as xgb\n",
    "from sklearn.model_selection import train_test_split\n",
    "from sklearn.metrics import accuracy_score\n",
    "from sklearn.metrics import f1_score, classification_report, roc_auc_score\n",
    "from sklearn.metrics import confusion_matrix, ConfusionMatrixDisplay"
   ]
  },
  {
   "cell_type": "code",
   "execution_count": 3,
   "id": "d6b5fa05-84c2-4259-a77d-65061e04474d",
   "metadata": {},
   "outputs": [
    {
     "data": {
      "text/html": [
       "<div>\n",
       "<style scoped>\n",
       "    .dataframe tbody tr th:only-of-type {\n",
       "        vertical-align: middle;\n",
       "    }\n",
       "\n",
       "    .dataframe tbody tr th {\n",
       "        vertical-align: top;\n",
       "    }\n",
       "\n",
       "    .dataframe thead th {\n",
       "        text-align: right;\n",
       "    }\n",
       "</style>\n",
       "<table border=\"1\" class=\"dataframe\">\n",
       "  <thead>\n",
       "    <tr style=\"text-align: right;\">\n",
       "      <th></th>\n",
       "      <th>user_id</th>\n",
       "      <th>product_id</th>\n",
       "      <th>up_product_cnt</th>\n",
       "      <th>up_reorder_ratio</th>\n",
       "      <th>up_mean_cart_position</th>\n",
       "      <th>up_mean_days_between_orders</th>\n",
       "      <th>up_mean_order_dow</th>\n",
       "      <th>up_mean_order_hod</th>\n",
       "      <th>u_total_orders</th>\n",
       "      <th>u_mean_products</th>\n",
       "      <th>u_mean_days_between_orders</th>\n",
       "      <th>u_mean_order_dow</th>\n",
       "      <th>p_mean_cart_position</th>\n",
       "      <th>p_order_count</th>\n",
       "      <th>p_reorder_ratio</th>\n",
       "      <th>p_mean_days_between_orders</th>\n",
       "      <th>reordered</th>\n",
       "    </tr>\n",
       "  </thead>\n",
       "  <tbody>\n",
       "    <tr>\n",
       "      <th>0</th>\n",
       "      <td>1</td>\n",
       "      <td>196</td>\n",
       "      <td>10</td>\n",
       "      <td>0.900000</td>\n",
       "      <td>1.400000</td>\n",
       "      <td>17.600000</td>\n",
       "      <td>2.500000</td>\n",
       "      <td>10.300000</td>\n",
       "      <td>10</td>\n",
       "      <td>5.9</td>\n",
       "      <td>17.272727</td>\n",
       "      <td>2.636364</td>\n",
       "      <td>3.721774</td>\n",
       "      <td>35791</td>\n",
       "      <td>0.776480</td>\n",
       "      <td>11.195803</td>\n",
       "      <td>1.0</td>\n",
       "    </tr>\n",
       "    <tr>\n",
       "      <th>1</th>\n",
       "      <td>1</td>\n",
       "      <td>10258</td>\n",
       "      <td>9</td>\n",
       "      <td>0.888889</td>\n",
       "      <td>3.333333</td>\n",
       "      <td>19.555556</td>\n",
       "      <td>2.555556</td>\n",
       "      <td>10.555556</td>\n",
       "      <td>10</td>\n",
       "      <td>5.9</td>\n",
       "      <td>17.272727</td>\n",
       "      <td>2.636364</td>\n",
       "      <td>4.277492</td>\n",
       "      <td>1946</td>\n",
       "      <td>0.713772</td>\n",
       "      <td>11.099692</td>\n",
       "      <td>1.0</td>\n",
       "    </tr>\n",
       "    <tr>\n",
       "      <th>2</th>\n",
       "      <td>1</td>\n",
       "      <td>10326</td>\n",
       "      <td>1</td>\n",
       "      <td>0.000000</td>\n",
       "      <td>5.000000</td>\n",
       "      <td>28.000000</td>\n",
       "      <td>4.000000</td>\n",
       "      <td>15.000000</td>\n",
       "      <td>10</td>\n",
       "      <td>5.9</td>\n",
       "      <td>17.272727</td>\n",
       "      <td>2.636364</td>\n",
       "      <td>4.191097</td>\n",
       "      <td>5526</td>\n",
       "      <td>0.652009</td>\n",
       "      <td>11.177705</td>\n",
       "      <td>0.0</td>\n",
       "    </tr>\n",
       "    <tr>\n",
       "      <th>3</th>\n",
       "      <td>1</td>\n",
       "      <td>12427</td>\n",
       "      <td>10</td>\n",
       "      <td>0.900000</td>\n",
       "      <td>3.300000</td>\n",
       "      <td>17.600000</td>\n",
       "      <td>2.500000</td>\n",
       "      <td>10.300000</td>\n",
       "      <td>10</td>\n",
       "      <td>5.9</td>\n",
       "      <td>17.272727</td>\n",
       "      <td>2.636364</td>\n",
       "      <td>4.760037</td>\n",
       "      <td>6476</td>\n",
       "      <td>0.740735</td>\n",
       "      <td>9.955837</td>\n",
       "      <td>0.0</td>\n",
       "    </tr>\n",
       "    <tr>\n",
       "      <th>4</th>\n",
       "      <td>1</td>\n",
       "      <td>13032</td>\n",
       "      <td>3</td>\n",
       "      <td>0.666667</td>\n",
       "      <td>6.333333</td>\n",
       "      <td>21.666667</td>\n",
       "      <td>2.666667</td>\n",
       "      <td>8.000000</td>\n",
       "      <td>10</td>\n",
       "      <td>5.9</td>\n",
       "      <td>17.272727</td>\n",
       "      <td>2.636364</td>\n",
       "      <td>5.622767</td>\n",
       "      <td>3751</td>\n",
       "      <td>0.657158</td>\n",
       "      <td>10.616636</td>\n",
       "      <td>1.0</td>\n",
       "    </tr>\n",
       "  </tbody>\n",
       "</table>\n",
       "</div>"
      ],
      "text/plain": [
       "   user_id  product_id  up_product_cnt  up_reorder_ratio  \\\n",
       "0        1         196              10          0.900000   \n",
       "1        1       10258               9          0.888889   \n",
       "2        1       10326               1          0.000000   \n",
       "3        1       12427              10          0.900000   \n",
       "4        1       13032               3          0.666667   \n",
       "\n",
       "   up_mean_cart_position  up_mean_days_between_orders  up_mean_order_dow  \\\n",
       "0               1.400000                    17.600000           2.500000   \n",
       "1               3.333333                    19.555556           2.555556   \n",
       "2               5.000000                    28.000000           4.000000   \n",
       "3               3.300000                    17.600000           2.500000   \n",
       "4               6.333333                    21.666667           2.666667   \n",
       "\n",
       "   up_mean_order_hod  u_total_orders  u_mean_products  \\\n",
       "0          10.300000              10              5.9   \n",
       "1          10.555556              10              5.9   \n",
       "2          15.000000              10              5.9   \n",
       "3          10.300000              10              5.9   \n",
       "4           8.000000              10              5.9   \n",
       "\n",
       "   u_mean_days_between_orders  u_mean_order_dow  p_mean_cart_position  \\\n",
       "0                   17.272727          2.636364              3.721774   \n",
       "1                   17.272727          2.636364              4.277492   \n",
       "2                   17.272727          2.636364              4.191097   \n",
       "3                   17.272727          2.636364              4.760037   \n",
       "4                   17.272727          2.636364              5.622767   \n",
       "\n",
       "   p_order_count  p_reorder_ratio  p_mean_days_between_orders  reordered  \n",
       "0          35791         0.776480                   11.195803        1.0  \n",
       "1           1946         0.713772                   11.099692        1.0  \n",
       "2           5526         0.652009                   11.177705        0.0  \n",
       "3           6476         0.740735                    9.955837        0.0  \n",
       "4           3751         0.657158                   10.616636        1.0  "
      ]
     },
     "execution_count": 3,
     "metadata": {},
     "output_type": "execute_result"
    }
   ],
   "source": [
    "train_data = pd.read_csv('data/modelling/train_data_14_features.csv')\n",
    "train_data.head()"
   ]
  },
  {
   "cell_type": "markdown",
   "id": "6b2492dd-b78b-4723-844f-478ff60773d5",
   "metadata": {},
   "source": [
    "### Establish Features for the model"
   ]
  },
  {
   "cell_type": "code",
   "execution_count": 4,
   "id": "eb77c092-6945-4ce1-a2c1-0e5cdded9ae6",
   "metadata": {},
   "outputs": [],
   "source": [
    "# Set feature and target variables\n",
    "features_cols = ['user_id', 'product_id', 'p_mean_cart_position', 'p_order_count', 'p_reorder_ratio']\n",
    "X = train_data[features_cols]\n",
    "y = train_data.reordered\n",
    "\n",
    "# Create the train and test sets\n",
    "X_train, X_test, y_train, y_test = train_test_split(X, y, test_size=0.25, random_state=123)"
   ]
  },
  {
   "cell_type": "markdown",
   "id": "8a325087-9a99-4130-8262-89d6fed526e4",
   "metadata": {
    "tags": []
   },
   "source": [
    "### Establish Baseline Model to compare against\n",
    "This DummyClassifier doesn't learn from the input data but rather generates predictions based on predefined rules.\n",
    "The rules are either most frequent, uniform, prior, constant, or stratified.\n",
    "As the dataset is quite imbalanced, I've selected stratified as the strategy parameter."
   ]
  },
  {
   "cell_type": "code",
   "execution_count": 5,
   "id": "0b3bd188-3824-4760-89b3-a544b543c020",
   "metadata": {},
   "outputs": [
    {
     "data": {
      "text/plain": [
       "0.09720730008426147"
      ]
     },
     "execution_count": 5,
     "metadata": {},
     "output_type": "execute_result"
    }
   ],
   "source": [
    "from sklearn.dummy import DummyClassifier\n",
    "\n",
    "clf_dummy = DummyClassifier(random_state=12, strategy='stratified') \n",
    "clf_dummy.fit(X_train, y_train)\n",
    "\n",
    "y_dummy_pred = clf_dummy.predict(X_test)\n",
    "\n",
    "f1_score(y_test, y_dummy_pred)"
   ]
  },
  {
   "cell_type": "markdown",
   "id": "fc7f8f12-bbba-4170-8b2e-0f599467a861",
   "metadata": {},
   "source": [
    "#### Confusion matrix"
   ]
  },
  {
   "cell_type": "code",
   "execution_count": 6,
   "id": "c12f2da1-9973-4740-96bb-6e7e6b949c4f",
   "metadata": {},
   "outputs": [
    {
     "data": {
      "text/html": [
       "<div>\n",
       "<style scoped>\n",
       "    .dataframe tbody tr th:only-of-type {\n",
       "        vertical-align: middle;\n",
       "    }\n",
       "\n",
       "    .dataframe tbody tr th {\n",
       "        vertical-align: top;\n",
       "    }\n",
       "\n",
       "    .dataframe thead th {\n",
       "        text-align: right;\n",
       "    }\n",
       "</style>\n",
       "<table border=\"1\" class=\"dataframe\">\n",
       "  <thead>\n",
       "    <tr style=\"text-align: right;\">\n",
       "      <th>col_0</th>\n",
       "      <th>0.0</th>\n",
       "      <th>1.0</th>\n",
       "    </tr>\n",
       "    <tr>\n",
       "      <th>reordered</th>\n",
       "      <th></th>\n",
       "      <th></th>\n",
       "    </tr>\n",
       "  </thead>\n",
       "  <tbody>\n",
       "    <tr>\n",
       "      <th>0.0</th>\n",
       "      <td>0.814007</td>\n",
       "      <td>0.088143</td>\n",
       "    </tr>\n",
       "    <tr>\n",
       "      <th>1.0</th>\n",
       "      <td>0.088348</td>\n",
       "      <td>0.009502</td>\n",
       "    </tr>\n",
       "  </tbody>\n",
       "</table>\n",
       "</div>"
      ],
      "text/plain": [
       "col_0           0.0       1.0\n",
       "reordered                    \n",
       "0.0        0.814007  0.088143\n",
       "1.0        0.088348  0.009502"
      ]
     },
     "execution_count": 6,
     "metadata": {},
     "output_type": "execute_result"
    }
   ],
   "source": [
    "pd.crosstab(y_test, y_dummy_pred, normalize='all')"
   ]
  },
  {
   "cell_type": "markdown",
   "id": "120d3be8-ffbc-4ca2-bfc1-7125e898d0cd",
   "metadata": {},
   "source": [
    "### Train the model"
   ]
  },
  {
   "cell_type": "code",
   "execution_count": 7,
   "id": "3f123e09-6659-4080-90e9-04eda227d6dc",
   "metadata": {},
   "outputs": [
    {
     "data": {
      "text/html": [
       "<style>#sk-container-id-1 {color: black;background-color: white;}#sk-container-id-1 pre{padding: 0;}#sk-container-id-1 div.sk-toggleable {background-color: white;}#sk-container-id-1 label.sk-toggleable__label {cursor: pointer;display: block;width: 100%;margin-bottom: 0;padding: 0.3em;box-sizing: border-box;text-align: center;}#sk-container-id-1 label.sk-toggleable__label-arrow:before {content: \"▸\";float: left;margin-right: 0.25em;color: #696969;}#sk-container-id-1 label.sk-toggleable__label-arrow:hover:before {color: black;}#sk-container-id-1 div.sk-estimator:hover label.sk-toggleable__label-arrow:before {color: black;}#sk-container-id-1 div.sk-toggleable__content {max-height: 0;max-width: 0;overflow: hidden;text-align: left;background-color: #f0f8ff;}#sk-container-id-1 div.sk-toggleable__content pre {margin: 0.2em;color: black;border-radius: 0.25em;background-color: #f0f8ff;}#sk-container-id-1 input.sk-toggleable__control:checked~div.sk-toggleable__content {max-height: 200px;max-width: 100%;overflow: auto;}#sk-container-id-1 input.sk-toggleable__control:checked~label.sk-toggleable__label-arrow:before {content: \"▾\";}#sk-container-id-1 div.sk-estimator input.sk-toggleable__control:checked~label.sk-toggleable__label {background-color: #d4ebff;}#sk-container-id-1 div.sk-label input.sk-toggleable__control:checked~label.sk-toggleable__label {background-color: #d4ebff;}#sk-container-id-1 input.sk-hidden--visually {border: 0;clip: rect(1px 1px 1px 1px);clip: rect(1px, 1px, 1px, 1px);height: 1px;margin: -1px;overflow: hidden;padding: 0;position: absolute;width: 1px;}#sk-container-id-1 div.sk-estimator {font-family: monospace;background-color: #f0f8ff;border: 1px dotted black;border-radius: 0.25em;box-sizing: border-box;margin-bottom: 0.5em;}#sk-container-id-1 div.sk-estimator:hover {background-color: #d4ebff;}#sk-container-id-1 div.sk-parallel-item::after {content: \"\";width: 100%;border-bottom: 1px solid gray;flex-grow: 1;}#sk-container-id-1 div.sk-label:hover label.sk-toggleable__label {background-color: #d4ebff;}#sk-container-id-1 div.sk-serial::before {content: \"\";position: absolute;border-left: 1px solid gray;box-sizing: border-box;top: 0;bottom: 0;left: 50%;z-index: 0;}#sk-container-id-1 div.sk-serial {display: flex;flex-direction: column;align-items: center;background-color: white;padding-right: 0.2em;padding-left: 0.2em;position: relative;}#sk-container-id-1 div.sk-item {position: relative;z-index: 1;}#sk-container-id-1 div.sk-parallel {display: flex;align-items: stretch;justify-content: center;background-color: white;position: relative;}#sk-container-id-1 div.sk-item::before, #sk-container-id-1 div.sk-parallel-item::before {content: \"\";position: absolute;border-left: 1px solid gray;box-sizing: border-box;top: 0;bottom: 0;left: 50%;z-index: -1;}#sk-container-id-1 div.sk-parallel-item {display: flex;flex-direction: column;z-index: 1;position: relative;background-color: white;}#sk-container-id-1 div.sk-parallel-item:first-child::after {align-self: flex-end;width: 50%;}#sk-container-id-1 div.sk-parallel-item:last-child::after {align-self: flex-start;width: 50%;}#sk-container-id-1 div.sk-parallel-item:only-child::after {width: 0;}#sk-container-id-1 div.sk-dashed-wrapped {border: 1px dashed gray;margin: 0 0.4em 0.5em 0.4em;box-sizing: border-box;padding-bottom: 0.4em;background-color: white;}#sk-container-id-1 div.sk-label label {font-family: monospace;font-weight: bold;display: inline-block;line-height: 1.2em;}#sk-container-id-1 div.sk-label-container {text-align: center;}#sk-container-id-1 div.sk-container {/* jupyter's `normalize.less` sets `[hidden] { display: none; }` but bootstrap.min.css set `[hidden] { display: none !important; }` so we also need the `!important` here to be able to override the default hidden behavior on the sphinx rendered scikit-learn.org. See: https://github.com/scikit-learn/scikit-learn/issues/21755 */display: inline-block !important;position: relative;}#sk-container-id-1 div.sk-text-repr-fallback {display: none;}</style><div id=\"sk-container-id-1\" class=\"sk-top-container\"><div class=\"sk-text-repr-fallback\"><pre>XGBClassifier(base_score=None, booster=None, callbacks=None,\n",
       "              colsample_bylevel=None, colsample_bynode=None,\n",
       "              colsample_bytree=None, early_stopping_rounds=None,\n",
       "              enable_categorical=False, eval_metric=None, feature_types=None,\n",
       "              gamma=None, gpu_id=None, grow_policy=None, importance_type=None,\n",
       "              interaction_constraints=None, learning_rate=None, max_bin=None,\n",
       "              max_cat_threshold=None, max_cat_to_onehot=None,\n",
       "              max_delta_step=None, max_depth=None, max_leaves=None,\n",
       "              min_child_weight=None, missing=nan, monotone_constraints=None,\n",
       "              n_estimators=100, n_jobs=None, num_parallel_tree=None,\n",
       "              predictor=None, random_state=None, ...)</pre><b>In a Jupyter environment, please rerun this cell to show the HTML representation or trust the notebook. <br />On GitHub, the HTML representation is unable to render, please try loading this page with nbviewer.org.</b></div><div class=\"sk-container\" hidden><div class=\"sk-item\"><div class=\"sk-estimator sk-toggleable\"><input class=\"sk-toggleable__control sk-hidden--visually\" id=\"sk-estimator-id-1\" type=\"checkbox\" checked><label for=\"sk-estimator-id-1\" class=\"sk-toggleable__label sk-toggleable__label-arrow\">XGBClassifier</label><div class=\"sk-toggleable__content\"><pre>XGBClassifier(base_score=None, booster=None, callbacks=None,\n",
       "              colsample_bylevel=None, colsample_bynode=None,\n",
       "              colsample_bytree=None, early_stopping_rounds=None,\n",
       "              enable_categorical=False, eval_metric=None, feature_types=None,\n",
       "              gamma=None, gpu_id=None, grow_policy=None, importance_type=None,\n",
       "              interaction_constraints=None, learning_rate=None, max_bin=None,\n",
       "              max_cat_threshold=None, max_cat_to_onehot=None,\n",
       "              max_delta_step=None, max_depth=None, max_leaves=None,\n",
       "              min_child_weight=None, missing=nan, monotone_constraints=None,\n",
       "              n_estimators=100, n_jobs=None, num_parallel_tree=None,\n",
       "              predictor=None, random_state=None, ...)</pre></div></div></div></div></div>"
      ],
      "text/plain": [
       "XGBClassifier(base_score=None, booster=None, callbacks=None,\n",
       "              colsample_bylevel=None, colsample_bynode=None,\n",
       "              colsample_bytree=None, early_stopping_rounds=None,\n",
       "              enable_categorical=False, eval_metric=None, feature_types=None,\n",
       "              gamma=None, gpu_id=None, grow_policy=None, importance_type=None,\n",
       "              interaction_constraints=None, learning_rate=None, max_bin=None,\n",
       "              max_cat_threshold=None, max_cat_to_onehot=None,\n",
       "              max_delta_step=None, max_depth=None, max_leaves=None,\n",
       "              min_child_weight=None, missing=nan, monotone_constraints=None,\n",
       "              n_estimators=100, n_jobs=None, num_parallel_tree=None,\n",
       "              predictor=None, random_state=None, ...)"
      ]
     },
     "execution_count": 7,
     "metadata": {},
     "output_type": "execute_result"
    }
   ],
   "source": [
    "# Calculate imbalance ratio to pass to classifier\n",
    "positive_class = y_train.sum()\n",
    "negative_class = len(y_train) - positive_class\n",
    "scale_pos_weight = negative_class / positive_class\n",
    "\n",
    "# Instantiate the classifier\n",
    "xgb_cl = xgb.XGBClassifier(objective='binary:logistic',\n",
    "                           seed=123, \n",
    "                           scale_pos_weight=scale_pos_weight)\n",
    "\n",
    "# Fit the classifier to the train set\n",
    "xgb_cl.fit(X_train, y_train)"
   ]
  },
  {
   "cell_type": "markdown",
   "id": "8c0801c4-a42c-4051-a61b-3da48e9eb2e8",
   "metadata": {},
   "source": [
    "### Predict with Train set"
   ]
  },
  {
   "cell_type": "code",
   "execution_count": 8,
   "id": "c63a40aa-64d6-49f1-98d5-df96c4390322",
   "metadata": {},
   "outputs": [
    {
     "data": {
      "text/plain": [
       "0.24437060794458335"
      ]
     },
     "execution_count": 8,
     "metadata": {},
     "output_type": "execute_result"
    }
   ],
   "source": [
    "y_train_pred = xgb_cl.predict(X_train)\n",
    "\n",
    "f1_score(y_train, y_train_pred)"
   ]
  },
  {
   "cell_type": "markdown",
   "id": "3483ce4e-5b67-41d5-b2ee-aeaa65c5aae8",
   "metadata": {},
   "source": [
    "#### Confusion Matrix"
   ]
  },
  {
   "cell_type": "code",
   "execution_count": 11,
   "id": "4c7c6922-5f26-4ca5-8060-a7d8c5ad3f30",
   "metadata": {},
   "outputs": [
    {
     "data": {
      "text/html": [
       "<div>\n",
       "<style scoped>\n",
       "    .dataframe tbody tr th:only-of-type {\n",
       "        vertical-align: middle;\n",
       "    }\n",
       "\n",
       "    .dataframe tbody tr th {\n",
       "        vertical-align: top;\n",
       "    }\n",
       "\n",
       "    .dataframe thead th {\n",
       "        text-align: right;\n",
       "    }\n",
       "</style>\n",
       "<table border=\"1\" class=\"dataframe\">\n",
       "  <thead>\n",
       "    <tr style=\"text-align: right;\">\n",
       "      <th>col_0</th>\n",
       "      <th>0</th>\n",
       "      <th>1</th>\n",
       "    </tr>\n",
       "    <tr>\n",
       "      <th>reordered</th>\n",
       "      <th></th>\n",
       "      <th></th>\n",
       "    </tr>\n",
       "  </thead>\n",
       "  <tbody>\n",
       "    <tr>\n",
       "      <th>0.0</th>\n",
       "      <td>3465209</td>\n",
       "      <td>2269272</td>\n",
       "    </tr>\n",
       "    <tr>\n",
       "      <th>1.0</th>\n",
       "      <td>219138</td>\n",
       "      <td>402376</td>\n",
       "    </tr>\n",
       "  </tbody>\n",
       "</table>\n",
       "</div>"
      ],
      "text/plain": [
       "col_0            0        1\n",
       "reordered                  \n",
       "0.0        3465209  2269272\n",
       "1.0         219138   402376"
      ]
     },
     "execution_count": 11,
     "metadata": {},
     "output_type": "execute_result"
    }
   ],
   "source": [
    "pd.crosstab(y_train, y_train_pred)"
   ]
  },
  {
   "cell_type": "code",
   "execution_count": 22,
   "id": "704ae78d-4255-47bf-8757-8639736785c9",
   "metadata": {},
   "outputs": [],
   "source": [
    "# ConfusionMatrixDisplay.from_predictions(y_train, y_train_pred, cmap='GnBu').plot(values_format='')"
   ]
  },
  {
   "cell_type": "code",
   "execution_count": 14,
   "id": "6481f54f-7193-4ebf-8f12-f59885bea637",
   "metadata": {},
   "outputs": [
    {
     "data": {
      "text/html": [
       "<div>\n",
       "<style scoped>\n",
       "    .dataframe tbody tr th:only-of-type {\n",
       "        vertical-align: middle;\n",
       "    }\n",
       "\n",
       "    .dataframe tbody tr th {\n",
       "        vertical-align: top;\n",
       "    }\n",
       "\n",
       "    .dataframe thead th {\n",
       "        text-align: right;\n",
       "    }\n",
       "</style>\n",
       "<table border=\"1\" class=\"dataframe\">\n",
       "  <thead>\n",
       "    <tr style=\"text-align: right;\">\n",
       "      <th>col_0</th>\n",
       "      <th>0</th>\n",
       "      <th>1</th>\n",
       "    </tr>\n",
       "    <tr>\n",
       "      <th>reordered</th>\n",
       "      <th></th>\n",
       "      <th></th>\n",
       "    </tr>\n",
       "  </thead>\n",
       "  <tbody>\n",
       "    <tr>\n",
       "      <th>0.0</th>\n",
       "      <td>0.545</td>\n",
       "      <td>0.357</td>\n",
       "    </tr>\n",
       "    <tr>\n",
       "      <th>1.0</th>\n",
       "      <td>0.034</td>\n",
       "      <td>0.063</td>\n",
       "    </tr>\n",
       "  </tbody>\n",
       "</table>\n",
       "</div>"
      ],
      "text/plain": [
       "col_0          0      1\n",
       "reordered              \n",
       "0.0        0.545  0.357\n",
       "1.0        0.034  0.063"
      ]
     },
     "execution_count": 14,
     "metadata": {},
     "output_type": "execute_result"
    }
   ],
   "source": [
    "#ConfusionMatrixDisplay.from_predictions(y_train, y_train_pred, normalize='all', cmap='GnBu')\n",
    "pd.crosstab(y_train, y_train_pred, normalize='all').round(3)"
   ]
  },
  {
   "cell_type": "markdown",
   "id": "7443141f-7576-4322-b2d4-536c8666e88c",
   "metadata": {},
   "source": [
    "#### Train Scores"
   ]
  },
  {
   "cell_type": "code",
   "execution_count": 15,
   "id": "2792b2c6-75c8-4573-83a0-f35a00c79070",
   "metadata": {},
   "outputs": [
    {
     "name": "stdout",
     "output_type": "stream",
     "text": [
      "              precision    recall  f1-score   support\n",
      "\n",
      "         0.0       0.94      0.60      0.74   5734481\n",
      "         1.0       0.15      0.65      0.24    621514\n",
      "\n",
      "    accuracy                           0.61   6355995\n",
      "   macro avg       0.55      0.63      0.49   6355995\n",
      "weighted avg       0.86      0.61      0.69   6355995\n",
      "\n"
     ]
    }
   ],
   "source": [
    "print(classification_report(y_train, y_train_pred))"
   ]
  },
  {
   "cell_type": "markdown",
   "id": "a94db3f0-4aa9-4948-92fc-b28555451c5d",
   "metadata": {
    "tags": []
   },
   "source": [
    "### Predict with Test set"
   ]
  },
  {
   "cell_type": "code",
   "execution_count": 17,
   "id": "9cd8cc02-f86b-419e-a352-269686b042ee",
   "metadata": {},
   "outputs": [
    {
     "data": {
      "text/plain": [
       "0.24237397810850966"
      ]
     },
     "execution_count": 17,
     "metadata": {},
     "output_type": "execute_result"
    }
   ],
   "source": [
    "y_test_pred = xgb_cl.predict(X_test)\n",
    "\n",
    "f1_score(y_test, y_test_pred)"
   ]
  },
  {
   "cell_type": "markdown",
   "id": "5d3d19bf-11e7-4b6d-b913-803bcfe11c71",
   "metadata": {},
   "source": [
    "#### Confusion Matrix"
   ]
  },
  {
   "cell_type": "code",
   "execution_count": 18,
   "id": "43296c2b-ec4d-49c2-abf2-b0e803ec9354",
   "metadata": {},
   "outputs": [
    {
     "data": {
      "text/html": [
       "<div>\n",
       "<style scoped>\n",
       "    .dataframe tbody tr th:only-of-type {\n",
       "        vertical-align: middle;\n",
       "    }\n",
       "\n",
       "    .dataframe tbody tr th {\n",
       "        vertical-align: top;\n",
       "    }\n",
       "\n",
       "    .dataframe thead th {\n",
       "        text-align: right;\n",
       "    }\n",
       "</style>\n",
       "<table border=\"1\" class=\"dataframe\">\n",
       "  <thead>\n",
       "    <tr style=\"text-align: right;\">\n",
       "      <th>col_0</th>\n",
       "      <th>0</th>\n",
       "      <th>1</th>\n",
       "    </tr>\n",
       "    <tr>\n",
       "      <th>reordered</th>\n",
       "      <th></th>\n",
       "      <th></th>\n",
       "    </tr>\n",
       "  </thead>\n",
       "  <tbody>\n",
       "    <tr>\n",
       "      <th>0.0</th>\n",
       "      <td>1154406</td>\n",
       "      <td>756950</td>\n",
       "    </tr>\n",
       "    <tr>\n",
       "      <th>1.0</th>\n",
       "      <td>74340</td>\n",
       "      <td>132970</td>\n",
       "    </tr>\n",
       "  </tbody>\n",
       "</table>\n",
       "</div>"
      ],
      "text/plain": [
       "col_0            0       1\n",
       "reordered                 \n",
       "0.0        1154406  756950\n",
       "1.0          74340  132970"
      ]
     },
     "execution_count": 18,
     "metadata": {},
     "output_type": "execute_result"
    }
   ],
   "source": [
    "pd.crosstab(y_test, y_test_pred)"
   ]
  },
  {
   "cell_type": "code",
   "execution_count": 21,
   "id": "450b0458-e77e-4511-978a-f98f3aec999a",
   "metadata": {},
   "outputs": [
    {
     "data": {
      "text/html": [
       "<div>\n",
       "<style scoped>\n",
       "    .dataframe tbody tr th:only-of-type {\n",
       "        vertical-align: middle;\n",
       "    }\n",
       "\n",
       "    .dataframe tbody tr th {\n",
       "        vertical-align: top;\n",
       "    }\n",
       "\n",
       "    .dataframe thead th {\n",
       "        text-align: right;\n",
       "    }\n",
       "</style>\n",
       "<table border=\"1\" class=\"dataframe\">\n",
       "  <thead>\n",
       "    <tr style=\"text-align: right;\">\n",
       "      <th>col_0</th>\n",
       "      <th>0</th>\n",
       "      <th>1</th>\n",
       "    </tr>\n",
       "    <tr>\n",
       "      <th>reordered</th>\n",
       "      <th></th>\n",
       "      <th></th>\n",
       "    </tr>\n",
       "  </thead>\n",
       "  <tbody>\n",
       "    <tr>\n",
       "      <th>0.0</th>\n",
       "      <td>0.545</td>\n",
       "      <td>0.357</td>\n",
       "    </tr>\n",
       "    <tr>\n",
       "      <th>1.0</th>\n",
       "      <td>0.035</td>\n",
       "      <td>0.063</td>\n",
       "    </tr>\n",
       "  </tbody>\n",
       "</table>\n",
       "</div>"
      ],
      "text/plain": [
       "col_0          0      1\n",
       "reordered              \n",
       "0.0        0.545  0.357\n",
       "1.0        0.035  0.063"
      ]
     },
     "execution_count": 21,
     "metadata": {},
     "output_type": "execute_result"
    }
   ],
   "source": [
    "# ConfusionMatrixDisplay.from_predictions(y_test, y_test_pred, cmap='GnBu').plot(values_format='')\n",
    "pd.crosstab(y_test, y_test_pred, normalize='all').round(3)"
   ]
  },
  {
   "cell_type": "markdown",
   "id": "69cbe202-2984-4856-8c7c-6f679b8f7e10",
   "metadata": {},
   "source": [
    "#### Test Scores"
   ]
  },
  {
   "cell_type": "code",
   "execution_count": 34,
   "id": "17abfa98-f7ba-4e62-9dbd-a92891db66ea",
   "metadata": {},
   "outputs": [
    {
     "name": "stdout",
     "output_type": "stream",
     "text": [
      "              precision    recall  f1-score   support\n",
      "\n",
      "         0.0       0.94      0.60      0.74   1911356\n",
      "         1.0       0.15      0.64      0.24    207310\n",
      "\n",
      "    accuracy                           0.61   2118666\n",
      "   macro avg       0.54      0.62      0.49   2118666\n",
      "weighted avg       0.86      0.61      0.69   2118666\n",
      "\n"
     ]
    }
   ],
   "source": [
    "print(classification_report(y_test, y_test_pred))"
   ]
  },
  {
   "cell_type": "markdown",
   "id": "d21ef3d0-6b89-41cf-9970-3bec07d79def",
   "metadata": {
    "tags": []
   },
   "source": [
    "### Cross-validation"
   ]
  },
  {
   "cell_type": "code",
   "execution_count": 38,
   "id": "8496ee12-f66d-443c-ac4e-018697001d20",
   "metadata": {},
   "outputs": [
    {
     "name": "stdout",
     "output_type": "stream",
     "text": [
      "0.2417916664244341\n"
     ]
    }
   ],
   "source": [
    "from sklearn.model_selection import KFold, cross_val_score\n",
    "\n",
    "kfold = KFold(n_splits=3, random_state=123, shuffle=True)\n",
    "\n",
    "cv_results = cross_val_score(xgb_cl, X, y, cv=kfold, scoring='f1')\n",
    "\n",
    "print(f\"F1 Score = {cv_results.mean()}\"\")"
   ]
  },
  {
   "cell_type": "markdown",
   "id": "0f62c424-f8ba-4caa-8bf4-5f478afa4526",
   "metadata": {},
   "source": [
    "### Feature Importance"
   ]
  },
  {
   "cell_type": "code",
   "execution_count": 42,
   "id": "1c2e58b0-0fef-41e9-9cf9-9064e424ebaa",
   "metadata": {},
   "outputs": [
    {
     "data": {
      "image/png": "[encoded data removed]",
      "text/plain": [
       "<Figure size 640x480 with 1 Axes>"
      ]
     },
     "metadata": {},
     "output_type": "display_data"
    }
   ],
   "source": [
    "xgb.plot_importance(xgb_cl, grid=False);"
   ]
  }
 ],
 "metadata": {
  "kernelspec": {
   "display_name": "Python 3 (ipykernel)",
   "language": "python",
   "name": "python3"
  },
  "language_info": {
   "codemirror_mode": {
    "name": "ipython",
    "version": 3
   },
   "file_extension": ".py",
   "mimetype": "text/x-python",
   "name": "python",
   "nbconvert_exporter": "python",
   "pygments_lexer": "ipython3",
   "version": "3.10.9"
  }
 },
 "nbformat": 4,
 "nbformat_minor": 5
}
