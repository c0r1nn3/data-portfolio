{
 "cells": [
  {
   "cell_type": "markdown",
   "id": "fb7366f0-d310-4f44-bef0-ee504b80b2e8",
   "metadata": {},
   "source": [
    "# Model 4 (tuned) : All features of User, Product, User-Product"
   ]
  },
  {
   "cell_type": "code",
   "execution_count": 22,
   "id": "d6e487a3-9400-4193-8ac1-4258a9ee1ece",
   "metadata": {},
   "outputs": [],
   "source": [
    "import pandas as pd\n",
    "import numpy as np\n",
    "import xgboost as xgb\n",
    "from sklearn.model_selection import train_test_split\n",
    "from sklearn.metrics import accuracy_score\n",
    "from sklearn.metrics import f1_score, classification_report\n",
    "from sklearn.metrics import confusion_matrix, ConfusionMatrixDisplay"
   ]
  },
  {
   "cell_type": "code",
   "execution_count": 23,
   "id": "d6b5fa05-84c2-4259-a77d-65061e04474d",
   "metadata": {},
   "outputs": [
    {
     "data": {
      "text/html": [
       "<div>\n",
       "<style scoped>\n",
       "    .dataframe tbody tr th:only-of-type {\n",
       "        vertical-align: middle;\n",
       "    }\n",
       "\n",
       "    .dataframe tbody tr th {\n",
       "        vertical-align: top;\n",
       "    }\n",
       "\n",
       "    .dataframe thead th {\n",
       "        text-align: right;\n",
       "    }\n",
       "</style>\n",
       "<table border=\"1\" class=\"dataframe\">\n",
       "  <thead>\n",
       "    <tr style=\"text-align: right;\">\n",
       "      <th></th>\n",
       "      <th>user_id</th>\n",
       "      <th>product_id</th>\n",
       "      <th>up_product_cnt</th>\n",
       "      <th>up_reorder_ratio</th>\n",
       "      <th>up_mean_cart_position</th>\n",
       "      <th>up_mean_days_between_orders</th>\n",
       "      <th>up_mean_order_dow</th>\n",
       "      <th>up_mean_order_hod</th>\n",
       "      <th>u_total_orders</th>\n",
       "      <th>u_mean_products</th>\n",
       "      <th>u_mean_days_between_orders</th>\n",
       "      <th>u_mean_order_dow</th>\n",
       "      <th>p_mean_cart_position</th>\n",
       "      <th>p_order_count</th>\n",
       "      <th>p_reorder_ratio</th>\n",
       "      <th>p_mean_days_between_orders</th>\n",
       "      <th>reordered</th>\n",
       "    </tr>\n",
       "  </thead>\n",
       "  <tbody>\n",
       "    <tr>\n",
       "      <th>0</th>\n",
       "      <td>1</td>\n",
       "      <td>196</td>\n",
       "      <td>10</td>\n",
       "      <td>0.900000</td>\n",
       "      <td>1.400000</td>\n",
       "      <td>17.600000</td>\n",
       "      <td>2.500000</td>\n",
       "      <td>10.300000</td>\n",
       "      <td>10</td>\n",
       "      <td>5.9</td>\n",
       "      <td>17.272727</td>\n",
       "      <td>2.636364</td>\n",
       "      <td>3.721774</td>\n",
       "      <td>35791</td>\n",
       "      <td>0.776480</td>\n",
       "      <td>11.195803</td>\n",
       "      <td>1.0</td>\n",
       "    </tr>\n",
       "    <tr>\n",
       "      <th>1</th>\n",
       "      <td>1</td>\n",
       "      <td>10258</td>\n",
       "      <td>9</td>\n",
       "      <td>0.888889</td>\n",
       "      <td>3.333333</td>\n",
       "      <td>19.555556</td>\n",
       "      <td>2.555556</td>\n",
       "      <td>10.555556</td>\n",
       "      <td>10</td>\n",
       "      <td>5.9</td>\n",
       "      <td>17.272727</td>\n",
       "      <td>2.636364</td>\n",
       "      <td>4.277492</td>\n",
       "      <td>1946</td>\n",
       "      <td>0.713772</td>\n",
       "      <td>11.099692</td>\n",
       "      <td>1.0</td>\n",
       "    </tr>\n",
       "    <tr>\n",
       "      <th>2</th>\n",
       "      <td>1</td>\n",
       "      <td>10326</td>\n",
       "      <td>1</td>\n",
       "      <td>0.000000</td>\n",
       "      <td>5.000000</td>\n",
       "      <td>28.000000</td>\n",
       "      <td>4.000000</td>\n",
       "      <td>15.000000</td>\n",
       "      <td>10</td>\n",
       "      <td>5.9</td>\n",
       "      <td>17.272727</td>\n",
       "      <td>2.636364</td>\n",
       "      <td>4.191097</td>\n",
       "      <td>5526</td>\n",
       "      <td>0.652009</td>\n",
       "      <td>11.177705</td>\n",
       "      <td>0.0</td>\n",
       "    </tr>\n",
       "    <tr>\n",
       "      <th>3</th>\n",
       "      <td>1</td>\n",
       "      <td>12427</td>\n",
       "      <td>10</td>\n",
       "      <td>0.900000</td>\n",
       "      <td>3.300000</td>\n",
       "      <td>17.600000</td>\n",
       "      <td>2.500000</td>\n",
       "      <td>10.300000</td>\n",
       "      <td>10</td>\n",
       "      <td>5.9</td>\n",
       "      <td>17.272727</td>\n",
       "      <td>2.636364</td>\n",
       "      <td>4.760037</td>\n",
       "      <td>6476</td>\n",
       "      <td>0.740735</td>\n",
       "      <td>9.955837</td>\n",
       "      <td>0.0</td>\n",
       "    </tr>\n",
       "    <tr>\n",
       "      <th>4</th>\n",
       "      <td>1</td>\n",
       "      <td>13032</td>\n",
       "      <td>3</td>\n",
       "      <td>0.666667</td>\n",
       "      <td>6.333333</td>\n",
       "      <td>21.666667</td>\n",
       "      <td>2.666667</td>\n",
       "      <td>8.000000</td>\n",
       "      <td>10</td>\n",
       "      <td>5.9</td>\n",
       "      <td>17.272727</td>\n",
       "      <td>2.636364</td>\n",
       "      <td>5.622767</td>\n",
       "      <td>3751</td>\n",
       "      <td>0.657158</td>\n",
       "      <td>10.616636</td>\n",
       "      <td>1.0</td>\n",
       "    </tr>\n",
       "  </tbody>\n",
       "</table>\n",
       "</div>"
      ],
      "text/plain": [
       "   user_id  product_id  up_product_cnt  up_reorder_ratio  \\\n",
       "0        1         196              10          0.900000   \n",
       "1        1       10258               9          0.888889   \n",
       "2        1       10326               1          0.000000   \n",
       "3        1       12427              10          0.900000   \n",
       "4        1       13032               3          0.666667   \n",
       "\n",
       "   up_mean_cart_position  up_mean_days_between_orders  up_mean_order_dow  \\\n",
       "0               1.400000                    17.600000           2.500000   \n",
       "1               3.333333                    19.555556           2.555556   \n",
       "2               5.000000                    28.000000           4.000000   \n",
       "3               3.300000                    17.600000           2.500000   \n",
       "4               6.333333                    21.666667           2.666667   \n",
       "\n",
       "   up_mean_order_hod  u_total_orders  u_mean_products  \\\n",
       "0          10.300000              10              5.9   \n",
       "1          10.555556              10              5.9   \n",
       "2          15.000000              10              5.9   \n",
       "3          10.300000              10              5.9   \n",
       "4           8.000000              10              5.9   \n",
       "\n",
       "   u_mean_days_between_orders  u_mean_order_dow  p_mean_cart_position  \\\n",
       "0                   17.272727          2.636364              3.721774   \n",
       "1                   17.272727          2.636364              4.277492   \n",
       "2                   17.272727          2.636364              4.191097   \n",
       "3                   17.272727          2.636364              4.760037   \n",
       "4                   17.272727          2.636364              5.622767   \n",
       "\n",
       "   p_order_count  p_reorder_ratio  p_mean_days_between_orders  reordered  \n",
       "0          35791         0.776480                   11.195803        1.0  \n",
       "1           1946         0.713772                   11.099692        1.0  \n",
       "2           5526         0.652009                   11.177705        0.0  \n",
       "3           6476         0.740735                    9.955837        0.0  \n",
       "4           3751         0.657158                   10.616636        1.0  "
      ]
     },
     "execution_count": 23,
     "metadata": {},
     "output_type": "execute_result"
    }
   ],
   "source": [
    "train_data = pd.read_csv('data/modelling/train_data_14_features.csv')\n",
    "train_data.head()"
   ]
  },
  {
   "cell_type": "markdown",
   "id": "6b2492dd-b78b-4723-844f-478ff60773d5",
   "metadata": {},
   "source": [
    "### Establish Features for the model"
   ]
  },
  {
   "cell_type": "code",
   "execution_count": 24,
   "id": "eb77c092-6945-4ce1-a2c1-0e5cdded9ae6",
   "metadata": {},
   "outputs": [],
   "source": [
    "# Set feature and target variables\n",
    "X = train_data.drop(['reordered', \n",
    "                     'p_mean_days_between_orders', \n",
    "                     'up_mean_cart_position', \n",
    "                     'up_mean_order_hod', 'up_mean_order_dow'], axis=1)\n",
    "y = train_data.reordered\n",
    "\n",
    "# Create the train and test sets\n",
    "X_train, X_test, y_train, y_test = train_test_split(X, y, test_size=0.25, random_state=123)"
   ]
  },
  {
   "cell_type": "markdown",
   "id": "73b9aac8-7809-4a4e-8e55-73aa20581466",
   "metadata": {
    "tags": []
   },
   "source": [
    "### Establish Baseline Model to compare against\n",
    "This DummyClassifier doesn't learn from the input data but rather generates predictions based on predefined rules.\n",
    "The rules are either most frequent, uniform, prior, constant, or stratified.\n",
    "Since the dataset is quite imbalanced, I've selected stratified as the strategy parameter, which maintains a similar class distribution to that of the training data."
   ]
  },
  {
   "cell_type": "code",
   "execution_count": 25,
   "id": "dcb05855-cac2-4e16-8b45-619e7e0b45fa",
   "metadata": {},
   "outputs": [
    {
     "data": {
      "text/plain": [
       "0.09720730008426147"
      ]
     },
     "execution_count": 25,
     "metadata": {},
     "output_type": "execute_result"
    }
   ],
   "source": [
    "from sklearn.dummy import DummyClassifier\n",
    "\n",
    "clf_dummy = DummyClassifier(random_state=12, strategy='stratified') \n",
    "clf_dummy.fit(X_train, y_train)\n",
    "\n",
    "y_dummy_pred = clf_dummy.predict(X_test)\n",
    "\n",
    "f1_score(y_test, y_dummy_pred)"
   ]
  },
  {
   "cell_type": "markdown",
   "id": "3ce2835f-b703-4484-8c7e-bb6f559a60cf",
   "metadata": {},
   "source": [
    "### Confusion Matrix - Baseline"
   ]
  },
  {
   "cell_type": "code",
   "execution_count": 26,
   "id": "d788ca24-746d-49d0-9593-b6689e1363cc",
   "metadata": {},
   "outputs": [
    {
     "data": {
      "text/html": [
       "<div>\n",
       "<style scoped>\n",
       "    .dataframe tbody tr th:only-of-type {\n",
       "        vertical-align: middle;\n",
       "    }\n",
       "\n",
       "    .dataframe tbody tr th {\n",
       "        vertical-align: top;\n",
       "    }\n",
       "\n",
       "    .dataframe thead th {\n",
       "        text-align: right;\n",
       "    }\n",
       "</style>\n",
       "<table border=\"1\" class=\"dataframe\">\n",
       "  <thead>\n",
       "    <tr style=\"text-align: right;\">\n",
       "      <th>col_0</th>\n",
       "      <th>0.0</th>\n",
       "      <th>1.0</th>\n",
       "    </tr>\n",
       "    <tr>\n",
       "      <th>reordered</th>\n",
       "      <th></th>\n",
       "      <th></th>\n",
       "    </tr>\n",
       "  </thead>\n",
       "  <tbody>\n",
       "    <tr>\n",
       "      <th>0.0</th>\n",
       "      <td>0.814007</td>\n",
       "      <td>0.088143</td>\n",
       "    </tr>\n",
       "    <tr>\n",
       "      <th>1.0</th>\n",
       "      <td>0.088348</td>\n",
       "      <td>0.009502</td>\n",
       "    </tr>\n",
       "  </tbody>\n",
       "</table>\n",
       "</div>"
      ],
      "text/plain": [
       "col_0           0.0       1.0\n",
       "reordered                    \n",
       "0.0        0.814007  0.088143\n",
       "1.0        0.088348  0.009502"
      ]
     },
     "execution_count": 26,
     "metadata": {},
     "output_type": "execute_result"
    }
   ],
   "source": [
    "pd.crosstab(y_test, y_dummy_pred, normalize='all')"
   ]
  },
  {
   "cell_type": "markdown",
   "id": "120d3be8-ffbc-4ca2-bfc1-7125e898d0cd",
   "metadata": {},
   "source": [
    "### Train the model"
   ]
  },
  {
   "cell_type": "code",
   "execution_count": 28,
   "id": "3f123e09-6659-4080-90e9-04eda227d6dc",
   "metadata": {},
   "outputs": [
    {
     "data": {
      "text/html": [
       "<style>#sk-container-id-2 {color: black;background-color: white;}#sk-container-id-2 pre{padding: 0;}#sk-container-id-2 div.sk-toggleable {background-color: white;}#sk-container-id-2 label.sk-toggleable__label {cursor: pointer;display: block;width: 100%;margin-bottom: 0;padding: 0.3em;box-sizing: border-box;text-align: center;}#sk-container-id-2 label.sk-toggleable__label-arrow:before {content: \"▸\";float: left;margin-right: 0.25em;color: #696969;}#sk-container-id-2 label.sk-toggleable__label-arrow:hover:before {color: black;}#sk-container-id-2 div.sk-estimator:hover label.sk-toggleable__label-arrow:before {color: black;}#sk-container-id-2 div.sk-toggleable__content {max-height: 0;max-width: 0;overflow: hidden;text-align: left;background-color: #f0f8ff;}#sk-container-id-2 div.sk-toggleable__content pre {margin: 0.2em;color: black;border-radius: 0.25em;background-color: #f0f8ff;}#sk-container-id-2 input.sk-toggleable__control:checked~div.sk-toggleable__content {max-height: 200px;max-width: 100%;overflow: auto;}#sk-container-id-2 input.sk-toggleable__control:checked~label.sk-toggleable__label-arrow:before {content: \"▾\";}#sk-container-id-2 div.sk-estimator input.sk-toggleable__control:checked~label.sk-toggleable__label {background-color: #d4ebff;}#sk-container-id-2 div.sk-label input.sk-toggleable__control:checked~label.sk-toggleable__label {background-color: #d4ebff;}#sk-container-id-2 input.sk-hidden--visually {border: 0;clip: rect(1px 1px 1px 1px);clip: rect(1px, 1px, 1px, 1px);height: 1px;margin: -1px;overflow: hidden;padding: 0;position: absolute;width: 1px;}#sk-container-id-2 div.sk-estimator {font-family: monospace;background-color: #f0f8ff;border: 1px dotted black;border-radius: 0.25em;box-sizing: border-box;margin-bottom: 0.5em;}#sk-container-id-2 div.sk-estimator:hover {background-color: #d4ebff;}#sk-container-id-2 div.sk-parallel-item::after {content: \"\";width: 100%;border-bottom: 1px solid gray;flex-grow: 1;}#sk-container-id-2 div.sk-label:hover label.sk-toggleable__label {background-color: #d4ebff;}#sk-container-id-2 div.sk-serial::before {content: \"\";position: absolute;border-left: 1px solid gray;box-sizing: border-box;top: 0;bottom: 0;left: 50%;z-index: 0;}#sk-container-id-2 div.sk-serial {display: flex;flex-direction: column;align-items: center;background-color: white;padding-right: 0.2em;padding-left: 0.2em;position: relative;}#sk-container-id-2 div.sk-item {position: relative;z-index: 1;}#sk-container-id-2 div.sk-parallel {display: flex;align-items: stretch;justify-content: center;background-color: white;position: relative;}#sk-container-id-2 div.sk-item::before, #sk-container-id-2 div.sk-parallel-item::before {content: \"\";position: absolute;border-left: 1px solid gray;box-sizing: border-box;top: 0;bottom: 0;left: 50%;z-index: -1;}#sk-container-id-2 div.sk-parallel-item {display: flex;flex-direction: column;z-index: 1;position: relative;background-color: white;}#sk-container-id-2 div.sk-parallel-item:first-child::after {align-self: flex-end;width: 50%;}#sk-container-id-2 div.sk-parallel-item:last-child::after {align-self: flex-start;width: 50%;}#sk-container-id-2 div.sk-parallel-item:only-child::after {width: 0;}#sk-container-id-2 div.sk-dashed-wrapped {border: 1px dashed gray;margin: 0 0.4em 0.5em 0.4em;box-sizing: border-box;padding-bottom: 0.4em;background-color: white;}#sk-container-id-2 div.sk-label label {font-family: monospace;font-weight: bold;display: inline-block;line-height: 1.2em;}#sk-container-id-2 div.sk-label-container {text-align: center;}#sk-container-id-2 div.sk-container {/* jupyter's `normalize.less` sets `[hidden] { display: none; }` but bootstrap.min.css set `[hidden] { display: none !important; }` so we also need the `!important` here to be able to override the default hidden behavior on the sphinx rendered scikit-learn.org. See: https://github.com/scikit-learn/scikit-learn/issues/21755 */display: inline-block !important;position: relative;}#sk-container-id-2 div.sk-text-repr-fallback {display: none;}</style><div id=\"sk-container-id-2\" class=\"sk-top-container\"><div class=\"sk-text-repr-fallback\"><pre>XGBClassifier(base_score=None, booster=None, callbacks=None,\n",
       "              colsample_bylevel=None, colsample_bynode=None,\n",
       "              colsample_bytree=None, early_stopping_rounds=None,\n",
       "              enable_categorical=False, eta=0.3, eval_metric=None,\n",
       "              feature_types=None, gamma=None, gpu_id=None, grow_policy=None,\n",
       "              importance_type=None, interaction_constraints=None,\n",
       "              learning_rate=None, max_bin=None, max_cat_threshold=None,\n",
       "              max_cat_to_onehot=None, max_delta_step=None, max_depth=8,\n",
       "              max_leaves=None, min_child_weight=None, missing=nan,\n",
       "              monotone_constraints=None, n_estimators=200, n_jobs=None,\n",
       "              num_parallel_tree=None, predictor=None, ...)</pre><b>In a Jupyter environment, please rerun this cell to show the HTML representation or trust the notebook. <br />On GitHub, the HTML representation is unable to render, please try loading this page with nbviewer.org.</b></div><div class=\"sk-container\" hidden><div class=\"sk-item\"><div class=\"sk-estimator sk-toggleable\"><input class=\"sk-toggleable__control sk-hidden--visually\" id=\"sk-estimator-id-2\" type=\"checkbox\" checked><label for=\"sk-estimator-id-2\" class=\"sk-toggleable__label sk-toggleable__label-arrow\">XGBClassifier</label><div class=\"sk-toggleable__content\"><pre>XGBClassifier(base_score=None, booster=None, callbacks=None,\n",
       "              colsample_bylevel=None, colsample_bynode=None,\n",
       "              colsample_bytree=None, early_stopping_rounds=None,\n",
       "              enable_categorical=False, eta=0.3, eval_metric=None,\n",
       "              feature_types=None, gamma=None, gpu_id=None, grow_policy=None,\n",
       "              importance_type=None, interaction_constraints=None,\n",
       "              learning_rate=None, max_bin=None, max_cat_threshold=None,\n",
       "              max_cat_to_onehot=None, max_delta_step=None, max_depth=8,\n",
       "              max_leaves=None, min_child_weight=None, missing=nan,\n",
       "              monotone_constraints=None, n_estimators=200, n_jobs=None,\n",
       "              num_parallel_tree=None, predictor=None, ...)</pre></div></div></div></div></div>"
      ],
      "text/plain": [
       "XGBClassifier(base_score=None, booster=None, callbacks=None,\n",
       "              colsample_bylevel=None, colsample_bynode=None,\n",
       "              colsample_bytree=None, early_stopping_rounds=None,\n",
       "              enable_categorical=False, eta=0.3, eval_metric=None,\n",
       "              feature_types=None, gamma=None, gpu_id=None, grow_policy=None,\n",
       "              importance_type=None, interaction_constraints=None,\n",
       "              learning_rate=None, max_bin=None, max_cat_threshold=None,\n",
       "              max_cat_to_onehot=None, max_delta_step=None, max_depth=8,\n",
       "              max_leaves=None, min_child_weight=None, missing=nan,\n",
       "              monotone_constraints=None, n_estimators=200, n_jobs=None,\n",
       "              num_parallel_tree=None, predictor=None, ...)"
      ]
     },
     "execution_count": 28,
     "metadata": {},
     "output_type": "execute_result"
    }
   ],
   "source": [
    "# Calculate imbalance ratio to pass to classifier\n",
    "positive_class = y_train.sum()\n",
    "negative_class = len(y_train) - positive_class\n",
    "scale_pos_weight = negative_class / positive_class\n",
    "\n",
    "# Instantiate the classifier\n",
    "xgb_cl = xgb.XGBClassifier(objective='binary:logistic',\n",
    "                           n_estimators=200,\n",
    "                           eta=0.3,\n",
    "                           max_depth=8,\n",
    "                           seed=123, \n",
    "                           scale_pos_weight=scale_pos_weight)\n",
    "\n",
    "# Fit the classifier to the train set\n",
    "xgb_cl.fit(X_train, y_train)"
   ]
  },
  {
   "cell_type": "markdown",
   "id": "8c0801c4-a42c-4051-a61b-3da48e9eb2e8",
   "metadata": {},
   "source": [
    "### Predict with Train set"
   ]
  },
  {
   "cell_type": "code",
   "execution_count": 29,
   "id": "c63a40aa-64d6-49f1-98d5-df96c4390322",
   "metadata": {},
   "outputs": [
    {
     "data": {
      "text/plain": [
       "0.3683499956312554"
      ]
     },
     "execution_count": 29,
     "metadata": {},
     "output_type": "execute_result"
    }
   ],
   "source": [
    "y_train_pred = xgb_cl.predict(X_train)\n",
    "\n",
    "f1_score(y_train, y_train_pred)"
   ]
  },
  {
   "cell_type": "markdown",
   "id": "a6ea8e7f-3768-4aef-9c6f-38108acb7b1c",
   "metadata": {},
   "source": [
    "#### Confusion Matrix"
   ]
  },
  {
   "cell_type": "code",
   "execution_count": 30,
   "id": "4c7c6922-5f26-4ca5-8060-a7d8c5ad3f30",
   "metadata": {},
   "outputs": [
    {
     "data": {
      "text/html": [
       "<div>\n",
       "<style scoped>\n",
       "    .dataframe tbody tr th:only-of-type {\n",
       "        vertical-align: middle;\n",
       "    }\n",
       "\n",
       "    .dataframe tbody tr th {\n",
       "        vertical-align: top;\n",
       "    }\n",
       "\n",
       "    .dataframe thead th {\n",
       "        text-align: right;\n",
       "    }\n",
       "</style>\n",
       "<table border=\"1\" class=\"dataframe\">\n",
       "  <thead>\n",
       "    <tr style=\"text-align: right;\">\n",
       "      <th>col_0</th>\n",
       "      <th>0</th>\n",
       "      <th>1</th>\n",
       "    </tr>\n",
       "    <tr>\n",
       "      <th>reordered</th>\n",
       "      <th></th>\n",
       "      <th></th>\n",
       "    </tr>\n",
       "  </thead>\n",
       "  <tbody>\n",
       "    <tr>\n",
       "      <th>0.0</th>\n",
       "      <td>4329852</td>\n",
       "      <td>1404629</td>\n",
       "    </tr>\n",
       "    <tr>\n",
       "      <th>1.0</th>\n",
       "      <td>164106</td>\n",
       "      <td>457408</td>\n",
       "    </tr>\n",
       "  </tbody>\n",
       "</table>\n",
       "</div>"
      ],
      "text/plain": [
       "col_0            0        1\n",
       "reordered                  \n",
       "0.0        4329852  1404629\n",
       "1.0         164106   457408"
      ]
     },
     "execution_count": 30,
     "metadata": {},
     "output_type": "execute_result"
    }
   ],
   "source": [
    "pd.crosstab(y_train, y_train_pred)"
   ]
  },
  {
   "cell_type": "code",
   "execution_count": 31,
   "id": "6481f54f-7193-4ebf-8f12-f59885bea637",
   "metadata": {},
   "outputs": [
    {
     "data": {
      "text/html": [
       "<div>\n",
       "<style scoped>\n",
       "    .dataframe tbody tr th:only-of-type {\n",
       "        vertical-align: middle;\n",
       "    }\n",
       "\n",
       "    .dataframe tbody tr th {\n",
       "        vertical-align: top;\n",
       "    }\n",
       "\n",
       "    .dataframe thead th {\n",
       "        text-align: right;\n",
       "    }\n",
       "</style>\n",
       "<table border=\"1\" class=\"dataframe\">\n",
       "  <thead>\n",
       "    <tr style=\"text-align: right;\">\n",
       "      <th>col_0</th>\n",
       "      <th>0</th>\n",
       "      <th>1</th>\n",
       "    </tr>\n",
       "    <tr>\n",
       "      <th>reordered</th>\n",
       "      <th></th>\n",
       "      <th></th>\n",
       "    </tr>\n",
       "  </thead>\n",
       "  <tbody>\n",
       "    <tr>\n",
       "      <th>0.0</th>\n",
       "      <td>0.681</td>\n",
       "      <td>0.221</td>\n",
       "    </tr>\n",
       "    <tr>\n",
       "      <th>1.0</th>\n",
       "      <td>0.026</td>\n",
       "      <td>0.072</td>\n",
       "    </tr>\n",
       "  </tbody>\n",
       "</table>\n",
       "</div>"
      ],
      "text/plain": [
       "col_0          0      1\n",
       "reordered              \n",
       "0.0        0.681  0.221\n",
       "1.0        0.026  0.072"
      ]
     },
     "execution_count": 31,
     "metadata": {},
     "output_type": "execute_result"
    }
   ],
   "source": [
    "#ConfusionMatrixDisplay.from_predictions(y_train, y_train_pred, normalize='all', cmap='GnBu')\n",
    "pd.crosstab(y_train, y_train_pred, normalize='all').round(3)"
   ]
  },
  {
   "cell_type": "markdown",
   "id": "e68e942e-2997-48dd-984f-9dcccdd8bb83",
   "metadata": {},
   "source": [
    "#### Train Scores"
   ]
  },
  {
   "cell_type": "code",
   "execution_count": 32,
   "id": "2792b2c6-75c8-4573-83a0-f35a00c79070",
   "metadata": {},
   "outputs": [
    {
     "name": "stdout",
     "output_type": "stream",
     "text": [
      "              precision    recall  f1-score   support\n",
      "\n",
      "         0.0       0.96      0.76      0.85   5734481\n",
      "         1.0       0.25      0.74      0.37    621514\n",
      "\n",
      "    accuracy                           0.75   6355995\n",
      "   macro avg       0.60      0.75      0.61   6355995\n",
      "weighted avg       0.89      0.75      0.80   6355995\n",
      "\n"
     ]
    }
   ],
   "source": [
    "print(classification_report(y_train, y_train_pred))"
   ]
  },
  {
   "cell_type": "markdown",
   "id": "a94db3f0-4aa9-4948-92fc-b28555451c5d",
   "metadata": {
    "tags": []
   },
   "source": [
    "### Predict with Test set"
   ]
  },
  {
   "cell_type": "code",
   "execution_count": 33,
   "id": "9cd8cc02-f86b-419e-a352-269686b042ee",
   "metadata": {},
   "outputs": [
    {
     "data": {
      "text/plain": [
       "0.3507916997523559"
      ]
     },
     "execution_count": 33,
     "metadata": {},
     "output_type": "execute_result"
    }
   ],
   "source": [
    "y_test_pred = xgb_cl.predict(X_test)\n",
    "\n",
    "f1_score(y_test, y_test_pred)"
   ]
  },
  {
   "cell_type": "markdown",
   "id": "5d3d19bf-11e7-4b6d-b913-803bcfe11c71",
   "metadata": {},
   "source": [
    "#### Confusion Matrix"
   ]
  },
  {
   "cell_type": "code",
   "execution_count": 34,
   "id": "43296c2b-ec4d-49c2-abf2-b0e803ec9354",
   "metadata": {},
   "outputs": [
    {
     "data": {
      "text/html": [
       "<div>\n",
       "<style scoped>\n",
       "    .dataframe tbody tr th:only-of-type {\n",
       "        vertical-align: middle;\n",
       "    }\n",
       "\n",
       "    .dataframe tbody tr th {\n",
       "        vertical-align: top;\n",
       "    }\n",
       "\n",
       "    .dataframe thead th {\n",
       "        text-align: right;\n",
       "    }\n",
       "</style>\n",
       "<table border=\"1\" class=\"dataframe\">\n",
       "  <thead>\n",
       "    <tr style=\"text-align: right;\">\n",
       "      <th>col_0</th>\n",
       "      <th>0</th>\n",
       "      <th>1</th>\n",
       "    </tr>\n",
       "    <tr>\n",
       "      <th>reordered</th>\n",
       "      <th></th>\n",
       "      <th></th>\n",
       "    </tr>\n",
       "  </thead>\n",
       "  <tbody>\n",
       "    <tr>\n",
       "      <th>0.0</th>\n",
       "      <td>1436391</td>\n",
       "      <td>474965</td>\n",
       "    </tr>\n",
       "    <tr>\n",
       "      <th>1.0</th>\n",
       "      <td>62188</td>\n",
       "      <td>145122</td>\n",
       "    </tr>\n",
       "  </tbody>\n",
       "</table>\n",
       "</div>"
      ],
      "text/plain": [
       "col_0            0       1\n",
       "reordered                 \n",
       "0.0        1436391  474965\n",
       "1.0          62188  145122"
      ]
     },
     "execution_count": 34,
     "metadata": {},
     "output_type": "execute_result"
    }
   ],
   "source": [
    "pd.crosstab(y_test, y_test_pred)"
   ]
  },
  {
   "cell_type": "code",
   "execution_count": 35,
   "id": "450b0458-e77e-4511-978a-f98f3aec999a",
   "metadata": {},
   "outputs": [
    {
     "data": {
      "text/html": [
       "<div>\n",
       "<style scoped>\n",
       "    .dataframe tbody tr th:only-of-type {\n",
       "        vertical-align: middle;\n",
       "    }\n",
       "\n",
       "    .dataframe tbody tr th {\n",
       "        vertical-align: top;\n",
       "    }\n",
       "\n",
       "    .dataframe thead th {\n",
       "        text-align: right;\n",
       "    }\n",
       "</style>\n",
       "<table border=\"1\" class=\"dataframe\">\n",
       "  <thead>\n",
       "    <tr style=\"text-align: right;\">\n",
       "      <th>col_0</th>\n",
       "      <th>0</th>\n",
       "      <th>1</th>\n",
       "    </tr>\n",
       "    <tr>\n",
       "      <th>reordered</th>\n",
       "      <th></th>\n",
       "      <th></th>\n",
       "    </tr>\n",
       "  </thead>\n",
       "  <tbody>\n",
       "    <tr>\n",
       "      <th>0.0</th>\n",
       "      <td>0.678</td>\n",
       "      <td>0.224</td>\n",
       "    </tr>\n",
       "    <tr>\n",
       "      <th>1.0</th>\n",
       "      <td>0.029</td>\n",
       "      <td>0.068</td>\n",
       "    </tr>\n",
       "  </tbody>\n",
       "</table>\n",
       "</div>"
      ],
      "text/plain": [
       "col_0          0      1\n",
       "reordered              \n",
       "0.0        0.678  0.224\n",
       "1.0        0.029  0.068"
      ]
     },
     "execution_count": 35,
     "metadata": {},
     "output_type": "execute_result"
    }
   ],
   "source": [
    "# ConfusionMatrixDisplay.from_predictions(y_test, y_test_pred, normalize='all', cmap='GnBu')\n",
    "pd.crosstab(y_test, y_test_pred, normalize='all').round(3)"
   ]
  },
  {
   "cell_type": "markdown",
   "id": "b3b4a3d3-1a66-4c71-b7aa-7fd7b2920148",
   "metadata": {},
   "source": [
    "#### Test Scores"
   ]
  },
  {
   "cell_type": "code",
   "execution_count": 36,
   "id": "17abfa98-f7ba-4e62-9dbd-a92891db66ea",
   "metadata": {},
   "outputs": [
    {
     "name": "stdout",
     "output_type": "stream",
     "text": [
      "              precision    recall  f1-score   support\n",
      "\n",
      "         0.0       0.96      0.75      0.84   1911356\n",
      "         1.0       0.23      0.70      0.35    207310\n",
      "\n",
      "    accuracy                           0.75   2118666\n",
      "   macro avg       0.60      0.73      0.60   2118666\n",
      "weighted avg       0.89      0.75      0.79   2118666\n",
      "\n"
     ]
    }
   ],
   "source": [
    "print(classification_report(y_test, y_test_pred))"
   ]
  },
  {
   "cell_type": "code",
   "execution_count": 37,
   "id": "70bd3d6e-2071-490d-b992-6372dfe677c0",
   "metadata": {},
   "outputs": [
    {
     "data": {
      "text/plain": [
       "0.8235092270324817"
      ]
     },
     "execution_count": 37,
     "metadata": {},
     "output_type": "execute_result"
    }
   ],
   "source": [
    "from sklearn.dummy import DummyClassifier\n",
    "\n",
    "clf_dummy = DummyClassifier(random_state=12, strategy='stratified') \n",
    "clf_dummy.fit(X_train, y_train)\n",
    "\n",
    "y_dummy_pred = clf_dummy.predict(X_test)\n",
    "\n",
    "accuracy_score(y_test, y_dummy_pred)"
   ]
  },
  {
   "cell_type": "code",
   "execution_count": 38,
   "id": "fb8bc888-2115-457e-9a0f-2ce7d5793dc5",
   "metadata": {},
   "outputs": [
    {
     "data": {
      "text/html": [
       "<div>\n",
       "<style scoped>\n",
       "    .dataframe tbody tr th:only-of-type {\n",
       "        vertical-align: middle;\n",
       "    }\n",
       "\n",
       "    .dataframe tbody tr th {\n",
       "        vertical-align: top;\n",
       "    }\n",
       "\n",
       "    .dataframe thead th {\n",
       "        text-align: right;\n",
       "    }\n",
       "</style>\n",
       "<table border=\"1\" class=\"dataframe\">\n",
       "  <thead>\n",
       "    <tr style=\"text-align: right;\">\n",
       "      <th>col_0</th>\n",
       "      <th>0.0</th>\n",
       "      <th>1.0</th>\n",
       "    </tr>\n",
       "    <tr>\n",
       "      <th>reordered</th>\n",
       "      <th></th>\n",
       "      <th></th>\n",
       "    </tr>\n",
       "  </thead>\n",
       "  <tbody>\n",
       "    <tr>\n",
       "      <th>0.0</th>\n",
       "      <td>0.814007</td>\n",
       "      <td>0.088143</td>\n",
       "    </tr>\n",
       "    <tr>\n",
       "      <th>1.0</th>\n",
       "      <td>0.088348</td>\n",
       "      <td>0.009502</td>\n",
       "    </tr>\n",
       "  </tbody>\n",
       "</table>\n",
       "</div>"
      ],
      "text/plain": [
       "col_0           0.0       1.0\n",
       "reordered                    \n",
       "0.0        0.814007  0.088143\n",
       "1.0        0.088348  0.009502"
      ]
     },
     "execution_count": 38,
     "metadata": {},
     "output_type": "execute_result"
    }
   ],
   "source": [
    "pd.crosstab(y_test, y_dummy_pred, normalize='all')"
   ]
  },
  {
   "cell_type": "code",
   "execution_count": 39,
   "id": "3143d950-3c05-4c99-90af-166e378483a8",
   "metadata": {},
   "outputs": [
    {
     "name": "stdout",
     "output_type": "stream",
     "text": [
      "              precision    recall  f1-score   support\n",
      "\n",
      "         0.0       0.90      0.90      0.90   1911356\n",
      "         1.0       0.10      0.10      0.10    207310\n",
      "\n",
      "    accuracy                           0.82   2118666\n",
      "   macro avg       0.50      0.50      0.50   2118666\n",
      "weighted avg       0.82      0.82      0.82   2118666\n",
      "\n"
     ]
    }
   ],
   "source": [
    "print(classification_report(y_test, y_dummy_pred))"
   ]
  },
  {
   "cell_type": "markdown",
   "id": "d21ef3d0-6b89-41cf-9970-3bec07d79def",
   "metadata": {
    "tags": []
   },
   "source": [
    "### Cross-validation"
   ]
  },
  {
   "cell_type": "code",
   "execution_count": 43,
   "id": "7acbeb01-12e1-40e4-a793-b1d3d27a1042",
   "metadata": {},
   "outputs": [
    {
     "name": "stdout",
     "output_type": "stream",
     "text": [
      "0.3499470340664927\n"
     ]
    }
   ],
   "source": [
    "from sklearn.model_selection import KFold, cross_val_score\n",
    "\n",
    "kfold = KFold(n_splits=3, random_state=123, shuffle=True)\n",
    "\n",
    "cv_results = cross_val_score(xgb_cl, X, y, cv=kfold, scoring='f1')\n",
    "\n",
    "print(cv_results.mean())"
   ]
  },
  {
   "cell_type": "code",
   "execution_count": 44,
   "id": "1c2e58b0-0fef-41e9-9cf9-9064e424ebaa",
   "metadata": {},
   "outputs": [
    {
     "data": {
      "text/plain": [
       "<AxesSubplot: title={'center': 'Feature importance'}, xlabel='F score', ylabel='Features'>"
      ]
     },
     "execution_count": 44,
     "metadata": {},
     "output_type": "execute_result"
    },
    {
     "data": {
      "image/png": "[encoded data removed]",
      "text/plain": [
       "<Figure size 640x480 with 1 Axes>"
      ]
     },
     "metadata": {},
     "output_type": "display_data"
    }
   ],
   "source": [
    "xgb.plot_importance(xgb_cl, grid=False)"
   ]
  }
 ],
 "metadata": {
  "kernelspec": {
   "display_name": "Python 3 (ipykernel)",
   "language": "python",
   "name": "python3"
  },
  "language_info": {
   "codemirror_mode": {
    "name": "ipython",
    "version": 3
   },
   "file_extension": ".py",
   "mimetype": "text/x-python",
   "name": "python",
   "nbconvert_exporter": "python",
   "pygments_lexer": "ipython3",
   "version": "3.10.9"
  }
 },
 "nbformat": 4,
 "nbformat_minor": 5
}
