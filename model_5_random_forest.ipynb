{
 "cells": [
  {
   "cell_type": "markdown",
   "id": "edad1be8-3b5c-4930-addc-0fd57e8802ae",
   "metadata": {},
   "source": [
    "# Model - Random Forest - combined user, product, user-product features"
   ]
  },
  {
   "cell_type": "code",
   "execution_count": 22,
   "id": "bc277b30-9cde-492e-a68a-15784f9a4685",
   "metadata": {},
   "outputs": [],
   "source": [
    "import pandas as pd\n",
    "import numpy as np\n",
    "from sklearn.ensemble import RandomForestClassifier\n",
    "from sklearn.model_selection import train_test_split\n",
    "from sklearn.metrics import accuracy_score\n",
    "from sklearn.metrics import f1_score, classification_report, roc_auc_score\n",
    "from sklearn.metrics import confusion_matrix, ConfusionMatrixDisplay"
   ]
  },
  {
   "cell_type": "markdown",
   "id": "793ea0d2-f247-4e88-b98e-da157321b5b4",
   "metadata": {},
   "source": [
    "### Load training set"
   ]
  },
  {
   "cell_type": "code",
   "execution_count": 23,
   "id": "4f547d2f-8e37-4989-83a7-42da2539450f",
   "metadata": {},
   "outputs": [
    {
     "data": {
      "text/html": [
       "<div>\n",
       "<style scoped>\n",
       "    .dataframe tbody tr th:only-of-type {\n",
       "        vertical-align: middle;\n",
       "    }\n",
       "\n",
       "    .dataframe tbody tr th {\n",
       "        vertical-align: top;\n",
       "    }\n",
       "\n",
       "    .dataframe thead th {\n",
       "        text-align: right;\n",
       "    }\n",
       "</style>\n",
       "<table border=\"1\" class=\"dataframe\">\n",
       "  <thead>\n",
       "    <tr style=\"text-align: right;\">\n",
       "      <th></th>\n",
       "      <th>user_id</th>\n",
       "      <th>product_id</th>\n",
       "      <th>up_product_cnt</th>\n",
       "      <th>up_reorder_ratio</th>\n",
       "      <th>up_mean_cart_position</th>\n",
       "      <th>up_mean_days_between_orders</th>\n",
       "      <th>up_mean_order_dow</th>\n",
       "      <th>up_mean_order_hod</th>\n",
       "      <th>u_total_orders</th>\n",
       "      <th>u_mean_products</th>\n",
       "      <th>u_mean_days_between_orders</th>\n",
       "      <th>u_mean_order_dow</th>\n",
       "      <th>p_mean_cart_position</th>\n",
       "      <th>p_order_count</th>\n",
       "      <th>p_reorder_ratio</th>\n",
       "      <th>p_mean_days_between_orders</th>\n",
       "      <th>reordered</th>\n",
       "    </tr>\n",
       "  </thead>\n",
       "  <tbody>\n",
       "    <tr>\n",
       "      <th>0</th>\n",
       "      <td>1</td>\n",
       "      <td>196</td>\n",
       "      <td>10</td>\n",
       "      <td>0.900000</td>\n",
       "      <td>1.400000</td>\n",
       "      <td>17.600000</td>\n",
       "      <td>2.500000</td>\n",
       "      <td>10.300000</td>\n",
       "      <td>10</td>\n",
       "      <td>5.9</td>\n",
       "      <td>17.272727</td>\n",
       "      <td>2.636364</td>\n",
       "      <td>3.721774</td>\n",
       "      <td>35791</td>\n",
       "      <td>0.776480</td>\n",
       "      <td>11.195803</td>\n",
       "      <td>1.0</td>\n",
       "    </tr>\n",
       "    <tr>\n",
       "      <th>1</th>\n",
       "      <td>1</td>\n",
       "      <td>10258</td>\n",
       "      <td>9</td>\n",
       "      <td>0.888889</td>\n",
       "      <td>3.333333</td>\n",
       "      <td>19.555556</td>\n",
       "      <td>2.555556</td>\n",
       "      <td>10.555556</td>\n",
       "      <td>10</td>\n",
       "      <td>5.9</td>\n",
       "      <td>17.272727</td>\n",
       "      <td>2.636364</td>\n",
       "      <td>4.277492</td>\n",
       "      <td>1946</td>\n",
       "      <td>0.713772</td>\n",
       "      <td>11.099692</td>\n",
       "      <td>1.0</td>\n",
       "    </tr>\n",
       "    <tr>\n",
       "      <th>2</th>\n",
       "      <td>1</td>\n",
       "      <td>10326</td>\n",
       "      <td>1</td>\n",
       "      <td>0.000000</td>\n",
       "      <td>5.000000</td>\n",
       "      <td>28.000000</td>\n",
       "      <td>4.000000</td>\n",
       "      <td>15.000000</td>\n",
       "      <td>10</td>\n",
       "      <td>5.9</td>\n",
       "      <td>17.272727</td>\n",
       "      <td>2.636364</td>\n",
       "      <td>4.191097</td>\n",
       "      <td>5526</td>\n",
       "      <td>0.652009</td>\n",
       "      <td>11.177705</td>\n",
       "      <td>0.0</td>\n",
       "    </tr>\n",
       "    <tr>\n",
       "      <th>3</th>\n",
       "      <td>1</td>\n",
       "      <td>12427</td>\n",
       "      <td>10</td>\n",
       "      <td>0.900000</td>\n",
       "      <td>3.300000</td>\n",
       "      <td>17.600000</td>\n",
       "      <td>2.500000</td>\n",
       "      <td>10.300000</td>\n",
       "      <td>10</td>\n",
       "      <td>5.9</td>\n",
       "      <td>17.272727</td>\n",
       "      <td>2.636364</td>\n",
       "      <td>4.760037</td>\n",
       "      <td>6476</td>\n",
       "      <td>0.740735</td>\n",
       "      <td>9.955837</td>\n",
       "      <td>0.0</td>\n",
       "    </tr>\n",
       "    <tr>\n",
       "      <th>4</th>\n",
       "      <td>1</td>\n",
       "      <td>13032</td>\n",
       "      <td>3</td>\n",
       "      <td>0.666667</td>\n",
       "      <td>6.333333</td>\n",
       "      <td>21.666667</td>\n",
       "      <td>2.666667</td>\n",
       "      <td>8.000000</td>\n",
       "      <td>10</td>\n",
       "      <td>5.9</td>\n",
       "      <td>17.272727</td>\n",
       "      <td>2.636364</td>\n",
       "      <td>5.622767</td>\n",
       "      <td>3751</td>\n",
       "      <td>0.657158</td>\n",
       "      <td>10.616636</td>\n",
       "      <td>1.0</td>\n",
       "    </tr>\n",
       "  </tbody>\n",
       "</table>\n",
       "</div>"
      ],
      "text/plain": [
       "   user_id  product_id  up_product_cnt  up_reorder_ratio  \\\n",
       "0        1         196              10          0.900000   \n",
       "1        1       10258               9          0.888889   \n",
       "2        1       10326               1          0.000000   \n",
       "3        1       12427              10          0.900000   \n",
       "4        1       13032               3          0.666667   \n",
       "\n",
       "   up_mean_cart_position  up_mean_days_between_orders  up_mean_order_dow  \\\n",
       "0               1.400000                    17.600000           2.500000   \n",
       "1               3.333333                    19.555556           2.555556   \n",
       "2               5.000000                    28.000000           4.000000   \n",
       "3               3.300000                    17.600000           2.500000   \n",
       "4               6.333333                    21.666667           2.666667   \n",
       "\n",
       "   up_mean_order_hod  u_total_orders  u_mean_products  \\\n",
       "0          10.300000              10              5.9   \n",
       "1          10.555556              10              5.9   \n",
       "2          15.000000              10              5.9   \n",
       "3          10.300000              10              5.9   \n",
       "4           8.000000              10              5.9   \n",
       "\n",
       "   u_mean_days_between_orders  u_mean_order_dow  p_mean_cart_position  \\\n",
       "0                   17.272727          2.636364              3.721774   \n",
       "1                   17.272727          2.636364              4.277492   \n",
       "2                   17.272727          2.636364              4.191097   \n",
       "3                   17.272727          2.636364              4.760037   \n",
       "4                   17.272727          2.636364              5.622767   \n",
       "\n",
       "   p_order_count  p_reorder_ratio  p_mean_days_between_orders  reordered  \n",
       "0          35791         0.776480                   11.195803        1.0  \n",
       "1           1946         0.713772                   11.099692        1.0  \n",
       "2           5526         0.652009                   11.177705        0.0  \n",
       "3           6476         0.740735                    9.955837        0.0  \n",
       "4           3751         0.657158                   10.616636        1.0  "
      ]
     },
     "execution_count": 23,
     "metadata": {},
     "output_type": "execute_result"
    }
   ],
   "source": [
    "train_data = pd.read_csv('data/modelling/train_data_14_features.csv')\n",
    "train_data.head()"
   ]
  },
  {
   "cell_type": "markdown",
   "id": "3d466810-8f16-4635-a347-f1ddbec02c8d",
   "metadata": {},
   "source": [
    "### Establish Features for the model"
   ]
  },
  {
   "cell_type": "code",
   "execution_count": 24,
   "id": "bc1de414-ed12-4240-b27e-d8a0511bcbfe",
   "metadata": {},
   "outputs": [],
   "source": [
    "# Set feature and target variables\n",
    "X = train_data.drop(['reordered', \n",
    "                     'p_mean_days_between_orders', \n",
    "                     'up_mean_cart_position', \n",
    "                     'up_mean_order_hod', 'up_mean_order_dow'], axis=1)\n",
    "y = train_data.reordered\n",
    "\n",
    "# Create the train and test sets\n",
    "X_train, X_test, y_train, y_test = train_test_split(X, y, test_size=0.25, random_state=123)"
   ]
  },
  {
   "cell_type": "markdown",
   "id": "95ab3854-708e-4513-85b6-dfb489248d4b",
   "metadata": {},
   "source": [
    "### Train the model"
   ]
  },
  {
   "cell_type": "code",
   "execution_count": 26,
   "id": "9d8a5ca9-ea94-46a6-85a2-d66cbef4885f",
   "metadata": {},
   "outputs": [
    {
     "data": {
      "text/html": [
       "<style>#sk-container-id-3 {color: black;background-color: white;}#sk-container-id-3 pre{padding: 0;}#sk-container-id-3 div.sk-toggleable {background-color: white;}#sk-container-id-3 label.sk-toggleable__label {cursor: pointer;display: block;width: 100%;margin-bottom: 0;padding: 0.3em;box-sizing: border-box;text-align: center;}#sk-container-id-3 label.sk-toggleable__label-arrow:before {content: \"▸\";float: left;margin-right: 0.25em;color: #696969;}#sk-container-id-3 label.sk-toggleable__label-arrow:hover:before {color: black;}#sk-container-id-3 div.sk-estimator:hover label.sk-toggleable__label-arrow:before {color: black;}#sk-container-id-3 div.sk-toggleable__content {max-height: 0;max-width: 0;overflow: hidden;text-align: left;background-color: #f0f8ff;}#sk-container-id-3 div.sk-toggleable__content pre {margin: 0.2em;color: black;border-radius: 0.25em;background-color: #f0f8ff;}#sk-container-id-3 input.sk-toggleable__control:checked~div.sk-toggleable__content {max-height: 200px;max-width: 100%;overflow: auto;}#sk-container-id-3 input.sk-toggleable__control:checked~label.sk-toggleable__label-arrow:before {content: \"▾\";}#sk-container-id-3 div.sk-estimator input.sk-toggleable__control:checked~label.sk-toggleable__label {background-color: #d4ebff;}#sk-container-id-3 div.sk-label input.sk-toggleable__control:checked~label.sk-toggleable__label {background-color: #d4ebff;}#sk-container-id-3 input.sk-hidden--visually {border: 0;clip: rect(1px 1px 1px 1px);clip: rect(1px, 1px, 1px, 1px);height: 1px;margin: -1px;overflow: hidden;padding: 0;position: absolute;width: 1px;}#sk-container-id-3 div.sk-estimator {font-family: monospace;background-color: #f0f8ff;border: 1px dotted black;border-radius: 0.25em;box-sizing: border-box;margin-bottom: 0.5em;}#sk-container-id-3 div.sk-estimator:hover {background-color: #d4ebff;}#sk-container-id-3 div.sk-parallel-item::after {content: \"\";width: 100%;border-bottom: 1px solid gray;flex-grow: 1;}#sk-container-id-3 div.sk-label:hover label.sk-toggleable__label {background-color: #d4ebff;}#sk-container-id-3 div.sk-serial::before {content: \"\";position: absolute;border-left: 1px solid gray;box-sizing: border-box;top: 0;bottom: 0;left: 50%;z-index: 0;}#sk-container-id-3 div.sk-serial {display: flex;flex-direction: column;align-items: center;background-color: white;padding-right: 0.2em;padding-left: 0.2em;position: relative;}#sk-container-id-3 div.sk-item {position: relative;z-index: 1;}#sk-container-id-3 div.sk-parallel {display: flex;align-items: stretch;justify-content: center;background-color: white;position: relative;}#sk-container-id-3 div.sk-item::before, #sk-container-id-3 div.sk-parallel-item::before {content: \"\";position: absolute;border-left: 1px solid gray;box-sizing: border-box;top: 0;bottom: 0;left: 50%;z-index: -1;}#sk-container-id-3 div.sk-parallel-item {display: flex;flex-direction: column;z-index: 1;position: relative;background-color: white;}#sk-container-id-3 div.sk-parallel-item:first-child::after {align-self: flex-end;width: 50%;}#sk-container-id-3 div.sk-parallel-item:last-child::after {align-self: flex-start;width: 50%;}#sk-container-id-3 div.sk-parallel-item:only-child::after {width: 0;}#sk-container-id-3 div.sk-dashed-wrapped {border: 1px dashed gray;margin: 0 0.4em 0.5em 0.4em;box-sizing: border-box;padding-bottom: 0.4em;background-color: white;}#sk-container-id-3 div.sk-label label {font-family: monospace;font-weight: bold;display: inline-block;line-height: 1.2em;}#sk-container-id-3 div.sk-label-container {text-align: center;}#sk-container-id-3 div.sk-container {/* jupyter's `normalize.less` sets `[hidden] { display: none; }` but bootstrap.min.css set `[hidden] { display: none !important; }` so we also need the `!important` here to be able to override the default hidden behavior on the sphinx rendered scikit-learn.org. See: https://github.com/scikit-learn/scikit-learn/issues/21755 */display: inline-block !important;position: relative;}#sk-container-id-3 div.sk-text-repr-fallback {display: none;}</style><div id=\"sk-container-id-3\" class=\"sk-top-container\"><div class=\"sk-text-repr-fallback\"><pre>RandomForestClassifier(class_weight=&#x27;balanced&#x27;, random_state=123)</pre><b>In a Jupyter environment, please rerun this cell to show the HTML representation or trust the notebook. <br />On GitHub, the HTML representation is unable to render, please try loading this page with nbviewer.org.</b></div><div class=\"sk-container\" hidden><div class=\"sk-item\"><div class=\"sk-estimator sk-toggleable\"><input class=\"sk-toggleable__control sk-hidden--visually\" id=\"sk-estimator-id-3\" type=\"checkbox\" checked><label for=\"sk-estimator-id-3\" class=\"sk-toggleable__label sk-toggleable__label-arrow\">RandomForestClassifier</label><div class=\"sk-toggleable__content\"><pre>RandomForestClassifier(class_weight=&#x27;balanced&#x27;, random_state=123)</pre></div></div></div></div></div>"
      ],
      "text/plain": [
       "RandomForestClassifier(class_weight='balanced', random_state=123)"
      ]
     },
     "execution_count": 26,
     "metadata": {},
     "output_type": "execute_result"
    }
   ],
   "source": [
    "# Instantiate the classifier\n",
    "rf_clf = RandomForestClassifier(n_estimators=100, random_state=123, class_weight='balanced')\n",
    "\n",
    "# Fit the classifier to the train set\n",
    "rf_clf.fit(X_train, y_train)"
   ]
  },
  {
   "cell_type": "markdown",
   "id": "90d9e12c-9a69-4b3d-92d2-1fa0fc3fd771",
   "metadata": {},
   "source": [
    "### Predict with Train set"
   ]
  },
  {
   "cell_type": "code",
   "execution_count": 27,
   "id": "6803f487-4766-4c90-b37f-0198189e7e24",
   "metadata": {},
   "outputs": [
    {
     "data": {
      "text/plain": [
       "0.999763424835886"
      ]
     },
     "execution_count": 27,
     "metadata": {},
     "output_type": "execute_result"
    }
   ],
   "source": [
    "y_train_pred = rf_clf.predict(X_train)\n",
    "\n",
    "f1_score(y_train, y_train_pred)"
   ]
  },
  {
   "cell_type": "markdown",
   "id": "48ece43d-67f0-4287-8259-6fdacb3bdc08",
   "metadata": {},
   "source": [
    "#### Confusion Matrix"
   ]
  },
  {
   "cell_type": "code",
   "execution_count": 28,
   "id": "5b3f79a5-1185-48dc-b38e-cc2a6e689508",
   "metadata": {},
   "outputs": [
    {
     "data": {
      "text/html": [
       "<div>\n",
       "<style scoped>\n",
       "    .dataframe tbody tr th:only-of-type {\n",
       "        vertical-align: middle;\n",
       "    }\n",
       "\n",
       "    .dataframe tbody tr th {\n",
       "        vertical-align: top;\n",
       "    }\n",
       "\n",
       "    .dataframe thead th {\n",
       "        text-align: right;\n",
       "    }\n",
       "</style>\n",
       "<table border=\"1\" class=\"dataframe\">\n",
       "  <thead>\n",
       "    <tr style=\"text-align: right;\">\n",
       "      <th>col_0</th>\n",
       "      <th>0.0</th>\n",
       "      <th>1.0</th>\n",
       "    </tr>\n",
       "    <tr>\n",
       "      <th>reordered</th>\n",
       "      <th></th>\n",
       "      <th></th>\n",
       "    </tr>\n",
       "  </thead>\n",
       "  <tbody>\n",
       "    <tr>\n",
       "      <th>0.0</th>\n",
       "      <td>5734481</td>\n",
       "      <td>0</td>\n",
       "    </tr>\n",
       "    <tr>\n",
       "      <th>1.0</th>\n",
       "      <td>294</td>\n",
       "      <td>621220</td>\n",
       "    </tr>\n",
       "  </tbody>\n",
       "</table>\n",
       "</div>"
      ],
      "text/plain": [
       "col_0          0.0     1.0\n",
       "reordered                 \n",
       "0.0        5734481       0\n",
       "1.0            294  621220"
      ]
     },
     "execution_count": 28,
     "metadata": {},
     "output_type": "execute_result"
    }
   ],
   "source": [
    "pd.crosstab(y_train, y_train_pred)"
   ]
  },
  {
   "cell_type": "code",
   "execution_count": 29,
   "id": "485c6d0b-ad7d-470b-864e-2eb878afe391",
   "metadata": {},
   "outputs": [
    {
     "data": {
      "text/html": [
       "<div>\n",
       "<style scoped>\n",
       "    .dataframe tbody tr th:only-of-type {\n",
       "        vertical-align: middle;\n",
       "    }\n",
       "\n",
       "    .dataframe tbody tr th {\n",
       "        vertical-align: top;\n",
       "    }\n",
       "\n",
       "    .dataframe thead th {\n",
       "        text-align: right;\n",
       "    }\n",
       "</style>\n",
       "<table border=\"1\" class=\"dataframe\">\n",
       "  <thead>\n",
       "    <tr style=\"text-align: right;\">\n",
       "      <th>col_0</th>\n",
       "      <th>0.0</th>\n",
       "      <th>1.0</th>\n",
       "    </tr>\n",
       "    <tr>\n",
       "      <th>reordered</th>\n",
       "      <th></th>\n",
       "      <th></th>\n",
       "    </tr>\n",
       "  </thead>\n",
       "  <tbody>\n",
       "    <tr>\n",
       "      <th>0.0</th>\n",
       "      <td>0.902</td>\n",
       "      <td>0.000</td>\n",
       "    </tr>\n",
       "    <tr>\n",
       "      <th>1.0</th>\n",
       "      <td>0.000</td>\n",
       "      <td>0.098</td>\n",
       "    </tr>\n",
       "  </tbody>\n",
       "</table>\n",
       "</div>"
      ],
      "text/plain": [
       "col_0        0.0    1.0\n",
       "reordered              \n",
       "0.0        0.902  0.000\n",
       "1.0        0.000  0.098"
      ]
     },
     "execution_count": 29,
     "metadata": {},
     "output_type": "execute_result"
    }
   ],
   "source": [
    "#ConfusionMatrixDisplay.from_predictions(y_train, y_train_pred, normalize='all', cmap='GnBu')\n",
    "pd.crosstab(y_train, y_train_pred, normalize='all').round(3)"
   ]
  },
  {
   "cell_type": "markdown",
   "id": "801a2d1c-ef43-4430-b202-510b8cbb6a7d",
   "metadata": {},
   "source": [
    "#### Train Scores"
   ]
  },
  {
   "cell_type": "code",
   "execution_count": 30,
   "id": "04646ec0-cf58-40b2-9a7e-6d02fe40f946",
   "metadata": {},
   "outputs": [
    {
     "name": "stdout",
     "output_type": "stream",
     "text": [
      "              precision    recall  f1-score   support\n",
      "\n",
      "         0.0       1.00      1.00      1.00   5734481\n",
      "         1.0       1.00      1.00      1.00    621514\n",
      "\n",
      "    accuracy                           1.00   6355995\n",
      "   macro avg       1.00      1.00      1.00   6355995\n",
      "weighted avg       1.00      1.00      1.00   6355995\n",
      "\n"
     ]
    }
   ],
   "source": [
    "print(classification_report(y_train, y_train_pred))"
   ]
  },
  {
   "cell_type": "markdown",
   "id": "f05fdb26-aae7-45f7-9795-6eb7fc6110db",
   "metadata": {
    "tags": []
   },
   "source": [
    "### Predict with Test set"
   ]
  },
  {
   "cell_type": "code",
   "execution_count": 31,
   "id": "2ab6fc87-bea1-40eb-be43-c4601347edea",
   "metadata": {},
   "outputs": [
    {
     "data": {
      "text/plain": [
       "0.1833224310792409"
      ]
     },
     "execution_count": 31,
     "metadata": {},
     "output_type": "execute_result"
    }
   ],
   "source": [
    "y_test_pred = rf_clf.predict(X_test)\n",
    "\n",
    "f1_score(y_test, y_test_pred)"
   ]
  },
  {
   "cell_type": "markdown",
   "id": "0c4b6a06-6285-4f93-8a40-45cc2705d640",
   "metadata": {},
   "source": [
    "#### Confusion Matrix"
   ]
  },
  {
   "cell_type": "code",
   "execution_count": 32,
   "id": "b745704b-8016-4ce9-b812-92268491fbb4",
   "metadata": {},
   "outputs": [
    {
     "data": {
      "text/html": [
       "<div>\n",
       "<style scoped>\n",
       "    .dataframe tbody tr th:only-of-type {\n",
       "        vertical-align: middle;\n",
       "    }\n",
       "\n",
       "    .dataframe tbody tr th {\n",
       "        vertical-align: top;\n",
       "    }\n",
       "\n",
       "    .dataframe thead th {\n",
       "        text-align: right;\n",
       "    }\n",
       "</style>\n",
       "<table border=\"1\" class=\"dataframe\">\n",
       "  <thead>\n",
       "    <tr style=\"text-align: right;\">\n",
       "      <th>col_0</th>\n",
       "      <th>0.0</th>\n",
       "      <th>1.0</th>\n",
       "    </tr>\n",
       "    <tr>\n",
       "      <th>reordered</th>\n",
       "      <th></th>\n",
       "      <th></th>\n",
       "    </tr>\n",
       "  </thead>\n",
       "  <tbody>\n",
       "    <tr>\n",
       "      <th>0.0</th>\n",
       "      <td>1897877</td>\n",
       "      <td>13479</td>\n",
       "    </tr>\n",
       "    <tr>\n",
       "      <th>1.0</th>\n",
       "      <td>185030</td>\n",
       "      <td>22280</td>\n",
       "    </tr>\n",
       "  </tbody>\n",
       "</table>\n",
       "</div>"
      ],
      "text/plain": [
       "col_0          0.0    1.0\n",
       "reordered                \n",
       "0.0        1897877  13479\n",
       "1.0         185030  22280"
      ]
     },
     "execution_count": 32,
     "metadata": {},
     "output_type": "execute_result"
    }
   ],
   "source": [
    "pd.crosstab(y_test, y_test_pred)"
   ]
  },
  {
   "cell_type": "code",
   "execution_count": 33,
   "id": "613db858-4edb-41fb-9ffc-9a27ff7762c6",
   "metadata": {},
   "outputs": [
    {
     "data": {
      "text/html": [
       "<div>\n",
       "<style scoped>\n",
       "    .dataframe tbody tr th:only-of-type {\n",
       "        vertical-align: middle;\n",
       "    }\n",
       "\n",
       "    .dataframe tbody tr th {\n",
       "        vertical-align: top;\n",
       "    }\n",
       "\n",
       "    .dataframe thead th {\n",
       "        text-align: right;\n",
       "    }\n",
       "</style>\n",
       "<table border=\"1\" class=\"dataframe\">\n",
       "  <thead>\n",
       "    <tr style=\"text-align: right;\">\n",
       "      <th>col_0</th>\n",
       "      <th>0.0</th>\n",
       "      <th>1.0</th>\n",
       "    </tr>\n",
       "    <tr>\n",
       "      <th>reordered</th>\n",
       "      <th></th>\n",
       "      <th></th>\n",
       "    </tr>\n",
       "  </thead>\n",
       "  <tbody>\n",
       "    <tr>\n",
       "      <th>0.0</th>\n",
       "      <td>0.896</td>\n",
       "      <td>0.006</td>\n",
       "    </tr>\n",
       "    <tr>\n",
       "      <th>1.0</th>\n",
       "      <td>0.087</td>\n",
       "      <td>0.011</td>\n",
       "    </tr>\n",
       "  </tbody>\n",
       "</table>\n",
       "</div>"
      ],
      "text/plain": [
       "col_0        0.0    1.0\n",
       "reordered              \n",
       "0.0        0.896  0.006\n",
       "1.0        0.087  0.011"
      ]
     },
     "execution_count": 33,
     "metadata": {},
     "output_type": "execute_result"
    }
   ],
   "source": [
    "# ConfusionMatrixDisplay.from_predictions(y_test, y_test_pred, normalize='all', cmap='GnBu')\n",
    "pd.crosstab(y_test, y_test_pred, normalize='all').round(3)"
   ]
  },
  {
   "cell_type": "markdown",
   "id": "6b476a50-4531-4b59-8e74-be67bca169f7",
   "metadata": {},
   "source": [
    "#### Confusion Matrix"
   ]
  },
  {
   "cell_type": "code",
   "execution_count": 34,
   "id": "f4179a7b-d25a-41b5-88e7-ffc98f37b18e",
   "metadata": {},
   "outputs": [
    {
     "name": "stdout",
     "output_type": "stream",
     "text": [
      "              precision    recall  f1-score   support\n",
      "\n",
      "         0.0       0.91      0.99      0.95   1911356\n",
      "         1.0       0.62      0.11      0.18    207310\n",
      "\n",
      "    accuracy                           0.91   2118666\n",
      "   macro avg       0.77      0.55      0.57   2118666\n",
      "weighted avg       0.88      0.91      0.88   2118666\n",
      "\n"
     ]
    }
   ],
   "source": [
    "print(classification_report(y_test, y_test_pred))"
   ]
  },
  {
   "cell_type": "markdown",
   "id": "c49242fc-14c6-478e-8ed5-e89391d71af4",
   "metadata": {
    "tags": []
   },
   "source": [
    "### Cross-validation"
   ]
  },
  {
   "cell_type": "code",
   "execution_count": 37,
   "id": "3bbaae51-1335-44d4-b5c2-823740dc8ef1",
   "metadata": {},
   "outputs": [
    {
     "name": "stderr",
     "output_type": "stream",
     "text": [
      "[Parallel(n_jobs=1)]: Using backend SequentialBackend with 1 concurrent workers.\n"
     ]
    },
    {
     "name": "stdout",
     "output_type": "stream",
     "text": [
      "0.1817897789525047\n"
     ]
    },
    {
     "name": "stderr",
     "output_type": "stream",
     "text": [
      "[Parallel(n_jobs=1)]: Done   3 out of   3 | elapsed: 68.5min finished\n"
     ]
    }
   ],
   "source": [
    "from sklearn.model_selection import KFold, cross_val_score\n",
    "\n",
    "kfold = KFold(n_splits=3, random_state=123, shuffle=True)\n",
    "\n",
    "cv_results = cross_val_score(rf_clf, X, y, cv=kfold, scoring='f1', verbose=1)\n",
    "\n",
    "print(cv_results.mean())"
   ]
  }
 ],
 "metadata": {
  "kernelspec": {
   "display_name": "Python 3 (ipykernel)",
   "language": "python",
   "name": "python3"
  },
  "language_info": {
   "codemirror_mode": {
    "name": "ipython",
    "version": 3
   },
   "file_extension": ".py",
   "mimetype": "text/x-python",
   "name": "python",
   "nbconvert_exporter": "python",
   "pygments_lexer": "ipython3",
   "version": "3.10.9"
  }
 },
 "nbformat": 4,
 "nbformat_minor": 5
}
